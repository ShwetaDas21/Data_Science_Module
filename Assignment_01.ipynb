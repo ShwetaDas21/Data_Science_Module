{
 "cells": [
  {
   "cell_type": "markdown",
   "id": "0e0eebc4-a64a-492b-8c77-982e00ba56be",
   "metadata": {},
   "source": [
    "# Assignment 01"
   ]
  },
  {
   "cell_type": "markdown",
   "id": "34030b2f-8385-438b-8655-5bc89a86474e",
   "metadata": {},
   "source": [
    "### 1. Write a program to read Celsius temperature and print equivalent Fahrenheit temperate on screen."
   ]
  },
  {
   "cell_type": "code",
   "execution_count": 34,
   "id": "4f0f359b-3d8b-4510-a71e-7a4b1957f9e9",
   "metadata": {},
   "outputs": [
    {
     "name": "stdin",
     "output_type": "stream",
     "text": [
      "Enter the Temperature in Celsius: 98.6\n"
     ]
    },
    {
     "name": "stdout",
     "output_type": "stream",
     "text": [
      "98.60 Celsius = 209.48 Fahrenheit\n"
     ]
    }
   ],
   "source": [
    "### Celsius = C and Fahrenheit = F\n",
    "C = float(input('Enter the Temperature in Celsius:'))\n",
    "F = 9/5 * C + 32\n",
    "print('%0.2f Celsius = %0.2f Fahrenheit' %(C, F))"
   ]
  },
  {
   "cell_type": "markdown",
   "id": "1d826f34-7366-4494-9602-3179827af2ed",
   "metadata": {},
   "source": [
    "### 2. Read radius of the circle from user and find the area and perimeter of it."
   ]
  },
  {
   "cell_type": "code",
   "execution_count": 28,
   "id": "147c42b8-3ed8-4f92-ac60-5257a914f668",
   "metadata": {},
   "outputs": [
    {
     "name": "stdin",
     "output_type": "stream",
     "text": [
      "Enter the radius of Circle in centimeter: 9.6\n"
     ]
    },
    {
     "name": "stdout",
     "output_type": "stream",
     "text": [
      "Area of Circle is 289.65 sq.cm and its Perimeter is 60.343 cm\n"
     ]
    }
   ],
   "source": [
    "### Radius = R, Area = A, Perimeter = P\n",
    "R = float(input('Enter the radius of Circle in centimeters:'))\n",
    "A = 22/7 * R * R\n",
    "P = 2 * 22/7 * R\n",
    "print('Area of Circle is %0.2f sq.cm and its Perimeter is %0.3f cm' %(A,P))"
   ]
  },
  {
   "cell_type": "markdown",
   "id": "91bbfd51-ae9f-41a6-9843-c04f0acc5c36",
   "metadata": {},
   "source": [
    "### 3. Read the amount and percentage of interest from the keyboard and find final amount after adding interest in original amount."
   ]
  },
  {
   "cell_type": "code",
   "execution_count": null,
   "id": "db3e4778-2447-4f24-812f-d30087365fc6",
   "metadata": {},
   "outputs": [],
   "source": [
    "### Amount = A, Percentage of Interest = PI, Final Amount = FA\n"
   ]
  },
  {
   "cell_type": "code",
   "execution_count": 58,
   "id": "ddb94c9a-d153-4b3d-b36e-a50fbfa4ba2c",
   "metadata": {},
   "outputs": [
    {
     "name": "stdin",
     "output_type": "stream",
     "text": [
      "Enter the Amount: 78656.5\n",
      "Enter the percentage of Interest: 3.4\n"
     ]
    },
    {
     "name": "stdout",
     "output_type": "stream",
     "text": [
      "The Total Amount after adding 3.40 percentage of Interest on Rs.78656.50/- is Rs.81330.82/-\n"
     ]
    }
   ],
   "source": [
    "A = float(input('Enter the Amount in Rupees:'))\n",
    "PI = float(input('Enter the percentage of Interest:'))\n",
    "FA = A + (PI * A/100)\n",
    "print('The Total Amount after adding %0.2f percentage of Interest on Rs.%0.2f/- is Rs.%0.2f/-' %(PI,A,FA))"
   ]
  },
  {
   "cell_type": "markdown",
   "id": "d1207ef5-d0c8-44ba-8b15-e19856e31487",
   "metadata": {},
   "source": [
    "### 4. Write a program to read distance value in meters and convert it into centimeters,inches, and yards."
   ]
  },
  {
   "cell_type": "code",
   "execution_count": 69,
   "id": "eaf12415-5f1f-4344-ad53-c8fca41beacb",
   "metadata": {},
   "outputs": [
    {
     "name": "stdin",
     "output_type": "stream",
     "text": [
      "Enter the distance in Meters: 100.4\n"
     ]
    },
    {
     "name": "stdout",
     "output_type": "stream",
     "text": [
      "100.4 meters = 10040.0 centimeters \t 100.40 meters = 3952.7 inches \t 100.40 meters = 110.4 yards \t \n"
     ]
    }
   ],
   "source": [
    "#### Distance in Meters = DM, Distance in Centimeters = DC, Distance in Inches = DI, Distance in Yards = DY\n",
    "DM = float(input('Enter the distance in Meters:'))\n",
    "DC = DM * 100; DI = 39.37 * DM; DY = 1.1 * DM\n",
    "print('%0.1f meters = %0.1f centimeters \\t %0.2f meters = %0.1f inches \\t %0.2f meters = %0.1f yards \\t ' %(DM,DC,DM,DI,DM,DY))"
   ]
  },
  {
   "cell_type": "markdown",
   "id": "cd437b43-8793-4e43-987a-eb7a51705cab",
   "metadata": {},
   "source": [
    "### 5. Write a Python program to calculate profit or loss. Input is selling cost and actual cost of a product."
   ]
  },
  {
   "cell_type": "code",
   "execution_count": 77,
   "id": "4ae90a0f-4686-4b3b-b903-6823e3f319b6",
   "metadata": {},
   "outputs": [
    {
     "name": "stdin",
     "output_type": "stream",
     "text": [
      "Enter the Selling Cost: 390000\n",
      "Enter the Actual Cost: 200000\n"
     ]
    },
    {
     "name": "stdout",
     "output_type": "stream",
     "text": [
      "Congrats you are in Profit of Rs. 190000.00\n"
     ]
    }
   ],
   "source": [
    "### Selling Cost = SC, Actual Cost = AC, Profit = P, Loss = L\n",
    "SC = float(input('Enter the Selling Cost:'))\n",
    "AC = float(input('Enter the Actual Cost:'))\n",
    "\n",
    "if SC > AC:\n",
    "    P = SC - AC\n",
    "    print('Congrats you are in Profit of Rs. %0.2f' %(P))\n",
    "elif SC < AC:\n",
    "    L = AC - SC\n",
    "    print('Sorry. You incurred a loss of Rs. %0.2f' %(L))\n",
    "else:\n",
    "    print('No Profit No Loss')"
   ]
  },
  {
   "cell_type": "markdown",
   "id": "523f7abd-c0fa-47ff-9425-b9dc5e294beb",
   "metadata": {},
   "source": [
    "### 6. Write a program to input basic salary and find output of gross salary using following:\n",
    "##### DA = 75% of basic ; HRA = 20% of basic\n",
    "##### Conditions:\n",
    "##### Basic < 10000 : gross = da + basic\n",
    "##### Basic >= 10000 and < 20000 : gross = da + basic + 50% of hra\n",
    "##### Basic >= 20000 : gross = basic + da + hra"
   ]
  },
  {
   "cell_type": "code",
   "execution_count": 90,
   "id": "fca2994e-bde3-44c1-8160-9378c80a887d",
   "metadata": {},
   "outputs": [
    {
     "name": "stdin",
     "output_type": "stream",
     "text": [
      "Enter your Basic Salary in Rupees: 24000\n"
     ]
    },
    {
     "name": "stdout",
     "output_type": "stream",
     "text": [
      "24000 : 18000 + 24000 + 4800 = 46800\n"
     ]
    }
   ],
   "source": [
    "### Basic Salary = Basic, Gross Salary = Gross\n",
    "Basic = float(input('Enter your Basic Salary in Rupees:'))\n",
    "DA = 0.75 * Basic\n",
    "HRA = 0.2 * Basic\n",
    "if Basic < 10000:\n",
    "    Gross = DA + Basic\n",
    "    print('%i : %i + %i = %i' %(Basic,DA,Basic,Gross))\n",
    "elif Basic >= 10000 and Basic < 20000:\n",
    "    Gross = DA + Basic + (0.5 * HRA)\n",
    "    print('%i : %i + %i + (0.5 * %i) = %i' %(Basic,DA,Basic,HRA,Gross))\n",
    "else:\n",
    "    Gross = Basic + DA + HRA\n",
    "    print('%i : %i + %i + %i = %i' %(Basic,DA,Basic,HRA,Gross))"
   ]
  },
  {
   "cell_type": "markdown",
   "id": "a584b723-4d55-4b8c-89b7-4550682bfb1c",
   "metadata": {},
   "source": [
    "### 7. Write a program to read a number from user and find the factorial of the number."
   ]
  },
  {
   "cell_type": "code",
   "execution_count": 122,
   "id": "21e95ad2-c498-4c4b-9b21-76a2ce9c3ede",
   "metadata": {},
   "outputs": [
    {
     "name": "stdin",
     "output_type": "stream",
     "text": [
      "Enter the number of which you need to find a Factorial: 5\n"
     ]
    },
    {
     "name": "stdout",
     "output_type": "stream",
     "text": [
      "The Factorial of 5 = 5 X 4 X 3 X 2 X 1 = 120\n"
     ]
    }
   ],
   "source": [
    "### Number = num, Factorial = fact, Counter = count\n",
    "num = int(input('Enter the number of which you need to find a Factorial:'))\n",
    "count = num\n",
    "fact = 1\n",
    "fact_string = ''\n",
    "while(count != 1):\n",
    "    fact = fact * count\n",
    "    fact_string = fact_string + str(count) + ' X '\n",
    "    count -= 1\n",
    "print('The Factorial of %s = %s1 = %i' %(num, fact_string, fact))"
   ]
  },
  {
   "cell_type": "markdown",
   "id": "5116f258-6533-4110-9df4-c5af6af6aba7",
   "metadata": {},
   "source": [
    "### 8. Write a program to read num1 and num2 from keyboard and find addition of all number between that range."
   ]
  },
  {
   "cell_type": "code",
   "execution_count": 145,
   "id": "13a06814-9624-440d-a9d8-5adb8ea2110e",
   "metadata": {},
   "outputs": [
    {
     "name": "stdout",
     "output_type": "stream",
     "text": [
      "Enter First and Last number between which you need to add the elements.\n"
     ]
    },
    {
     "name": "stdin",
     "output_type": "stream",
     "text": [
      "Enter First number: 4\n",
      "Enter Second number: 4\n"
     ]
    },
    {
     "name": "stdout",
     "output_type": "stream",
     "text": [
      "The addition of numbers between 4 and 4 is: 0\n"
     ]
    }
   ],
   "source": [
    "### Number-1 = num1, Number-2 = num2, Summation = sum\n",
    "print('Enter First and Last number between which you need to add the elements.')\n",
    "num1 = int(input('Enter First number:'))\n",
    "num2 = int(input('Enter Second number:'))\n",
    "sum = 0\n",
    "if num2 > num1:\n",
    "    for i in range(num1,num2):\n",
    "        sum += i\n",
    "       ## print('The addition of numbers between %i and %i is: %i' %(num1,num2,sum))\n",
    "else:\n",
    "    for i in range(num2,num1):\n",
    "        sum += i\n",
    "print('The addition of numbers between %i and %i is: %i' %(num1,num2,sum))"
   ]
  },
  {
   "cell_type": "markdown",
   "id": "cbdd82ae-f103-4ea9-9061-14ca865e4be0",
   "metadata": {},
   "source": [
    "### 9. See the tuple given: num = (56,2,35,41,43,48,32,56,71,55,68)\n",
    "##### Write a program to create two lists from it where first list contains only even numbers and second will contain only odd numbers."
   ]
  },
  {
   "cell_type": "code",
   "execution_count": 151,
   "id": "ce86d8cc-f890-484e-ad8a-4705e734cf76",
   "metadata": {},
   "outputs": [
    {
     "name": "stdout",
     "output_type": "stream",
     "text": [
      "Even list is: [56, 2, 48, 32, 56, 68]\n",
      "Odd list is: [35, 41, 43, 71, 55]\n"
     ]
    }
   ],
   "source": [
    "### Tuple = num, Even List =Elist, Odd List= Olist\n",
    "num = (56,2,35,41,43,48,32,56,71,55,68)\n",
    "Elist = [n for n in num if n % 2 == 0] \n",
    "Olist = [n for n in num if n % 2 == 1]\n",
    "print('Even list is:', Elist)\n",
    "print('Odd list is:', Olist)"
   ]
  },
  {
   "cell_type": "markdown",
   "id": "7fb42424-7040-4957-ad16-31a9d65993dd",
   "metadata": {},
   "source": [
    "### 10.Write a program to read a number from user. Create and use a user defined function to check whether it is odd or even?"
   ]
  },
  {
   "cell_type": "code",
   "execution_count": 179,
   "id": "3397cc71-4fb6-4ef4-be9b-40f523527b0d",
   "metadata": {},
   "outputs": [],
   "source": [
    "def EvenOdd(n):\n",
    "    if n == 0:\n",
    "        print('You have entered Zero')\n",
    "    elif n%2 == 0:\n",
    "        print('%i is Even Number' %(n))\n",
    "    else:\n",
    "        print('%i is an Odd Number' %(n))"
   ]
  },
  {
   "cell_type": "code",
   "execution_count": 181,
   "id": "da9f5898-4b13-4a4e-a775-cab68813cb99",
   "metadata": {},
   "outputs": [
    {
     "name": "stdin",
     "output_type": "stream",
     "text": [
      "Enter the Number: 888\n"
     ]
    },
    {
     "name": "stdout",
     "output_type": "stream",
     "text": [
      "888 is Even Number\n"
     ]
    }
   ],
   "source": [
    "##### Program 10th \n",
    "num = int(input('Enter the Number:'))\n",
    "EvenOdd(num)"
   ]
  },
  {
   "cell_type": "markdown",
   "id": "dbbf01e4-f99a-40a3-b534-d57c42d92cb9",
   "metadata": {},
   "source": [
    "### 11.Write a program to read a number from user and find the square root, sin, tan, log and factorial of this number using math module."
   ]
  },
  {
   "cell_type": "code",
   "execution_count": 208,
   "id": "2c204dbb-6145-4315-bba8-1db927481821",
   "metadata": {},
   "outputs": [
    {
     "name": "stdin",
     "output_type": "stream",
     "text": [
      "Enter the Number: 4\n"
     ]
    },
    {
     "name": "stdout",
     "output_type": "stream",
     "text": [
      "4 : Square Root =2.00, sin = -0.7568, tan = 1.1578, log = 1.3863, fact = 24\n"
     ]
    }
   ],
   "source": [
    "### Number = num\n",
    "import math\n",
    "from math import sqrt,sin,tan,log,factorial\n",
    "num = int(input('Enter the Number:'))\n",
    "print('%i : Square Root =%0.2f, sin = %0.4f, tan = %0.4f, log = %0.4f, fact = %i' \\\n",
    "      %(num,math.sqrt(num),math.sin(num),math.tan(num),math.log(num),math.factorial(num)))"
   ]
  },
  {
   "cell_type": "markdown",
   "id": "8e67b877-923a-4fc4-b21b-66742f598948",
   "metadata": {},
   "source": [
    "### 12.Write a Python class named ‘Rectangle’ with two attributes length and width and a method named ‘calculate’ which will compute the area of a rectangle. Create an object to pass length and width and call the method to calculate the area of rectangle."
   ]
  },
  {
   "cell_type": "code",
   "execution_count": 214,
   "id": "18ab42bf-e6e7-4a7b-87f1-9185371479bb",
   "metadata": {},
   "outputs": [],
   "source": [
    "class Rectangle:\n",
    "    #constructor\n",
    "    def __init__(self, l, w):\n",
    "        self.length = l     \n",
    "        self.width = w\n",
    "    def calculate(self):\n",
    "        area = self.length * self.width\n",
    "        return area"
   ]
  },
  {
   "cell_type": "code",
   "execution_count": 216,
   "id": "4914e872-af79-4029-97aa-ec7fd70200b0",
   "metadata": {},
   "outputs": [
    {
     "name": "stdout",
     "output_type": "stream",
     "text": [
      "Area of first rectangle is: 24 and Area of Second Rectangle is: 8\n"
     ]
    }
   ],
   "source": [
    "#### Create Object\n",
    "ob1 = Rectangle(6,4)\n",
    "ob2 = Rectangle(4,2)\n",
    "\n",
    "Area1 = ob1.calculate()\n",
    "Area2 = ob2.calculate()\n",
    "\n",
    "print('Area of first rectangle is: %i and Area of Second Rectangle is: %i' %(Area1, Area2))"
   ]
  }
 ],
 "metadata": {
  "kernelspec": {
   "display_name": "Python 3 (ipykernel)",
   "language": "python",
   "name": "python3"
  },
  "language_info": {
   "codemirror_mode": {
    "name": "ipython",
    "version": 3
   },
   "file_extension": ".py",
   "mimetype": "text/x-python",
   "name": "python",
   "nbconvert_exporter": "python",
   "pygments_lexer": "ipython3",
   "version": "3.12.4"
  }
 },
 "nbformat": 4,
 "nbformat_minor": 5
}
