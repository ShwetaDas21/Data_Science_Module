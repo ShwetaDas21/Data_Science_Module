{
 "cells": [
  {
   "cell_type": "code",
   "execution_count": 1,
   "id": "55f6ca2b-985b-491b-aa9d-08fe86d8fc26",
   "metadata": {},
   "outputs": [],
   "source": [
    "def show():\n",
    "    print(\"Hello World\")"
   ]
  },
  {
   "cell_type": "code",
   "execution_count": 3,
   "id": "87fb6661-1d4d-4d23-a40c-ab75af940d74",
   "metadata": {},
   "outputs": [
    {
     "name": "stdout",
     "output_type": "stream",
     "text": [
      "Hello World\n"
     ]
    }
   ],
   "source": [
    "show()"
   ]
  },
  {
   "cell_type": "code",
   "execution_count": 5,
   "id": "f9661dd4-0598-4486-ada5-54f2a09141fc",
   "metadata": {},
   "outputs": [],
   "source": [
    "def square(n):\n",
    "    sq = n * n\n",
    "    print(sq)"
   ]
  },
  {
   "cell_type": "code",
   "execution_count": 7,
   "id": "3deac113-8821-4fd0-ae5e-6eab27a7af52",
   "metadata": {},
   "outputs": [
    {
     "name": "stdout",
     "output_type": "stream",
     "text": [
      "16\n"
     ]
    }
   ],
   "source": [
    "square(4)"
   ]
  },
  {
   "cell_type": "code",
   "execution_count": 17,
   "id": "4671ea4e-489f-4813-9690-fee42c3ae532",
   "metadata": {},
   "outputs": [],
   "source": [
    "####Returning the values\n",
    "def compare(x, y):\n",
    "    if x > y:\n",
    "        return x\n",
    "    else:\n",
    "        return y"
   ]
  },
  {
   "cell_type": "code",
   "execution_count": 15,
   "id": "b09f9c08-bacc-40af-93c7-851f0b69d730",
   "metadata": {},
   "outputs": [
    {
     "data": {
      "text/plain": [
       "7"
      ]
     },
     "execution_count": 15,
     "metadata": {},
     "output_type": "execute_result"
    }
   ],
   "source": [
    "t = compare(5,7)\n",
    "t"
   ]
  },
  {
   "cell_type": "code",
   "execution_count": 19,
   "id": "8b6361ff-cbdc-4925-a3ce-d4c09ec26715",
   "metadata": {},
   "outputs": [
    {
     "data": {
      "text/plain": [
       "40"
      ]
     },
     "execution_count": 19,
     "metadata": {},
     "output_type": "execute_result"
    }
   ],
   "source": [
    "5 * compare(8, 4)"
   ]
  },
  {
   "cell_type": "code",
   "execution_count": 21,
   "id": "8b74fd49-2b90-4da8-97c6-8880b82b52a4",
   "metadata": {},
   "outputs": [],
   "source": [
    "def calc(num):\n",
    "    sq = num * num\n",
    "    cu = sq * num\n",
    "    return sq, cu"
   ]
  },
  {
   "cell_type": "code",
   "execution_count": 23,
   "id": "354e084d-1b4e-4eea-80c1-145840da8dee",
   "metadata": {},
   "outputs": [
    {
     "name": "stdout",
     "output_type": "stream",
     "text": [
      "Square and cube of 3 are (9, 27)\n"
     ]
    }
   ],
   "source": [
    "print('Square and cube of 3 are', calc(3))"
   ]
  },
  {
   "cell_type": "code",
   "execution_count": 25,
   "id": "389f2113-6036-45a3-abab-ebcb9662370f",
   "metadata": {},
   "outputs": [],
   "source": [
    "sq = calc(4)"
   ]
  },
  {
   "cell_type": "code",
   "execution_count": 27,
   "id": "d45945df-649a-4bd1-994e-b9fe427ade0c",
   "metadata": {},
   "outputs": [
    {
     "name": "stdout",
     "output_type": "stream",
     "text": [
      "(16, 64)\n"
     ]
    }
   ],
   "source": [
    "print(sq)"
   ]
  },
  {
   "cell_type": "code",
   "execution_count": 29,
   "id": "680c9185-9d02-4880-ace8-9771fecd6169",
   "metadata": {},
   "outputs": [
    {
     "data": {
      "text/plain": [
       "tuple"
      ]
     },
     "execution_count": 29,
     "metadata": {},
     "output_type": "execute_result"
    }
   ],
   "source": [
    "type(sq)"
   ]
  },
  {
   "cell_type": "code",
   "execution_count": 31,
   "id": "e4ea2338-000e-4d4f-abac-9471f450c240",
   "metadata": {},
   "outputs": [],
   "source": [
    "x, y =calc(4)"
   ]
  },
  {
   "cell_type": "code",
   "execution_count": 33,
   "id": "5b7385ad-685f-463a-9388-a581d68a6355",
   "metadata": {},
   "outputs": [
    {
     "name": "stdout",
     "output_type": "stream",
     "text": [
      "16 64\n"
     ]
    }
   ],
   "source": [
    "print(x,y)"
   ]
  },
  {
   "cell_type": "code",
   "execution_count": 37,
   "id": "62f381c7-4bda-4b34-b899-6e74b5d32137",
   "metadata": {},
   "outputs": [
    {
     "data": {
      "text/plain": [
       "int"
      ]
     },
     "execution_count": 37,
     "metadata": {},
     "output_type": "execute_result"
    }
   ],
   "source": [
    "type(y)"
   ]
  },
  {
   "cell_type": "code",
   "execution_count": 39,
   "id": "9e4e609d-9e61-43c7-b4a6-b566aade3cca",
   "metadata": {},
   "outputs": [
    {
     "name": "stdout",
     "output_type": "stream",
     "text": [
      "Help on built-in function max in module builtins:\n",
      "\n",
      "max(...)\n",
      "    max(iterable, *[, default=obj, key=func]) -> value\n",
      "    max(arg1, arg2, *args, *[, key=func]) -> value\n",
      "\n",
      "    With a single iterable argument, return its biggest item. The\n",
      "    default keyword-only argument specifies an object to return if\n",
      "    the provided iterable is empty.\n",
      "    With two or more arguments, return the largest argument.\n",
      "\n"
     ]
    }
   ],
   "source": [
    "help(max)"
   ]
  },
  {
   "cell_type": "code",
   "execution_count": 41,
   "id": "3bff3108-b488-44ba-abc0-12a135f5655d",
   "metadata": {},
   "outputs": [],
   "source": [
    "######Default Parameters\n",
    "def add(x=5, y=7, z=6):\n",
    "    a =x + y + z\n",
    "    return a"
   ]
  },
  {
   "cell_type": "code",
   "execution_count": 43,
   "id": "5c4bced6-c982-4b3d-9a78-5ba2c7866048",
   "metadata": {},
   "outputs": [
    {
     "name": "stdout",
     "output_type": "stream",
     "text": [
      "Call-1 12\n"
     ]
    }
   ],
   "source": [
    "print('Call-1', add(4,6,2))"
   ]
  },
  {
   "cell_type": "code",
   "execution_count": 47,
   "id": "0111a391-94eb-4dea-928c-a2627c98a739",
   "metadata": {},
   "outputs": [
    {
     "name": "stdout",
     "output_type": "stream",
     "text": [
      "Call-2 16\n"
     ]
    }
   ],
   "source": [
    "print('Call-2', add(y=5))"
   ]
  },
  {
   "cell_type": "code",
   "execution_count": null,
   "id": "38a0a02b-d5aa-4ba8-9cfb-b1dcf2cc52e9",
   "metadata": {},
   "outputs": [],
   "source": []
  }
 ],
 "metadata": {
  "kernelspec": {
   "display_name": "Python 3 (ipykernel)",
   "language": "python",
   "name": "python3"
  },
  "language_info": {
   "codemirror_mode": {
    "name": "ipython",
    "version": 3
   },
   "file_extension": ".py",
   "mimetype": "text/x-python",
   "name": "python",
   "nbconvert_exporter": "python",
   "pygments_lexer": "ipython3",
   "version": "3.12.4"
  }
 },
 "nbformat": 4,
 "nbformat_minor": 5
}
