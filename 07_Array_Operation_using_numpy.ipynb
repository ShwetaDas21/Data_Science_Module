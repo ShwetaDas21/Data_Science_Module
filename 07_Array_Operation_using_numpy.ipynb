{
 "cells": [
  {
   "cell_type": "code",
   "execution_count": 1,
   "id": "90277189-2bd6-4f5b-b308-0a90fc1a3ec7",
   "metadata": {},
   "outputs": [],
   "source": [
    "import numpy as np"
   ]
  },
  {
   "cell_type": "code",
   "execution_count": 3,
   "id": "cc8c5d01-12ad-4df2-ba45-217672230f63",
   "metadata": {},
   "outputs": [],
   "source": [
    "num = np.array([56,33,12,78,52,68,25])"
   ]
  },
  {
   "cell_type": "code",
   "execution_count": 5,
   "id": "d13df2f7-51bc-4164-80c2-219a4a5a4c17",
   "metadata": {},
   "outputs": [
    {
     "data": {
      "text/plain": [
       "array([56, 33, 12, 78, 52, 68, 25])"
      ]
     },
     "execution_count": 5,
     "metadata": {},
     "output_type": "execute_result"
    }
   ],
   "source": [
    "num"
   ]
  },
  {
   "cell_type": "code",
   "execution_count": 7,
   "id": "c9087726-df23-42d6-990d-54f62383715a",
   "metadata": {},
   "outputs": [
    {
     "data": {
      "text/plain": [
       "numpy.ndarray"
      ]
     },
     "execution_count": 7,
     "metadata": {},
     "output_type": "execute_result"
    }
   ],
   "source": [
    "type(num)"
   ]
  },
  {
   "cell_type": "code",
   "execution_count": 9,
   "id": "e855b777-df35-4763-b549-7c913f474ed2",
   "metadata": {},
   "outputs": [
    {
     "name": "stdout",
     "output_type": "stream",
     "text": [
      "[56 33 12 78 52 68 25]\n"
     ]
    }
   ],
   "source": [
    "print(num)"
   ]
  },
  {
   "cell_type": "code",
   "execution_count": 11,
   "id": "77c87f9d-0d4b-4a23-8bd7-072016b56968",
   "metadata": {},
   "outputs": [
    {
     "data": {
      "text/plain": [
       "dtype('int32')"
      ]
     },
     "execution_count": 11,
     "metadata": {},
     "output_type": "execute_result"
    }
   ],
   "source": [
    "num.dtype ##datatype of elements inside array"
   ]
  },
  {
   "cell_type": "code",
   "execution_count": 13,
   "id": "939ca468-f46d-4a7b-b3e9-38e4975f7113",
   "metadata": {},
   "outputs": [],
   "source": [
    "num = np.array([56,33,12,78,52,68,25], dtype = np.int16)"
   ]
  },
  {
   "cell_type": "code",
   "execution_count": 15,
   "id": "388497b8-88d1-4a2e-a3c7-8f629458526c",
   "metadata": {},
   "outputs": [
    {
     "data": {
      "text/plain": [
       "array([56, 33, 12, 78, 52, 68, 25], dtype=int16)"
      ]
     },
     "execution_count": 15,
     "metadata": {},
     "output_type": "execute_result"
    }
   ],
   "source": [
    "num"
   ]
  },
  {
   "cell_type": "code",
   "execution_count": 17,
   "id": "51ef9800-f760-4e14-9612-fb7abc7ed998",
   "metadata": {},
   "outputs": [
    {
     "data": {
      "text/plain": [
       "dtype('int16')"
      ]
     },
     "execution_count": 17,
     "metadata": {},
     "output_type": "execute_result"
    }
   ],
   "source": [
    "num.dtype"
   ]
  },
  {
   "cell_type": "code",
   "execution_count": 19,
   "id": "57cf5f0d-e4a0-4acf-8dc0-4510278005ac",
   "metadata": {},
   "outputs": [
    {
     "data": {
      "text/plain": [
       "68"
      ]
     },
     "execution_count": 19,
     "metadata": {},
     "output_type": "execute_result"
    }
   ],
   "source": [
    "num[5]"
   ]
  },
  {
   "cell_type": "code",
   "execution_count": 21,
   "id": "efefa1aa-1290-4567-93b3-3af5df049b3b",
   "metadata": {},
   "outputs": [
    {
     "data": {
      "text/plain": [
       "array([56, 33, 12, 78, 52, 61, 25], dtype=int16)"
      ]
     },
     "execution_count": 21,
     "metadata": {},
     "output_type": "execute_result"
    }
   ],
   "source": [
    "num[5] = 61\n",
    "num"
   ]
  },
  {
   "cell_type": "code",
   "execution_count": 29,
   "id": "a7bb8f67-cd2a-4b51-b354-e247c36f6244",
   "metadata": {},
   "outputs": [
    {
     "data": {
      "text/plain": [
       "1"
      ]
     },
     "execution_count": 29,
     "metadata": {},
     "output_type": "execute_result"
    }
   ],
   "source": [
    "num.ndim"
   ]
  },
  {
   "cell_type": "code",
   "execution_count": 25,
   "id": "5a148cf4-b6aa-4eba-bd20-ecc812199b98",
   "metadata": {},
   "outputs": [
    {
     "data": {
      "text/plain": [
       "78"
      ]
     },
     "execution_count": 25,
     "metadata": {},
     "output_type": "execute_result"
    }
   ],
   "source": [
    "num.min()\n",
    "num.max()"
   ]
  },
  {
   "cell_type": "code",
   "execution_count": 31,
   "id": "280c2cd0-0550-4a5e-ae55-fbc09a713d14",
   "metadata": {},
   "outputs": [
    {
     "data": {
      "text/plain": [
       "21.204543217462255"
      ]
     },
     "execution_count": 31,
     "metadata": {},
     "output_type": "execute_result"
    }
   ],
   "source": [
    "##tolist array to list conversion\n",
    "num.std()"
   ]
  },
  {
   "cell_type": "code",
   "execution_count": 33,
   "id": "63df16de-43eb-410c-a0e1-d55496536180",
   "metadata": {},
   "outputs": [],
   "source": [
    "num1 = np.array([45,67,23.56,78.25,89.03])"
   ]
  },
  {
   "cell_type": "code",
   "execution_count": 35,
   "id": "700722f2-9450-451a-9d06-297a835c33e1",
   "metadata": {},
   "outputs": [
    {
     "data": {
      "text/plain": [
       "dtype('float64')"
      ]
     },
     "execution_count": 35,
     "metadata": {},
     "output_type": "execute_result"
    }
   ],
   "source": [
    "num1.dtype"
   ]
  },
  {
   "cell_type": "code",
   "execution_count": 37,
   "id": "a593fdce-8773-490e-aa57-9dc13bb83fc5",
   "metadata": {},
   "outputs": [],
   "source": [
    "list = num1.tolist()"
   ]
  },
  {
   "cell_type": "markdown",
   "id": "0d3246e7-deaa-483b-b872-5177b376bdb0",
   "metadata": {},
   "source": [
    "type(list)"
   ]
  },
  {
   "cell_type": "code",
   "execution_count": 43,
   "id": "c5572965-13db-4c53-81f4-48a256c3c487",
   "metadata": {},
   "outputs": [
    {
     "data": {
      "text/plain": [
       "array([112,  66,  24, 156, 104, 122,  50], dtype=int16)"
      ]
     },
     "execution_count": 43,
     "metadata": {},
     "output_type": "execute_result"
    }
   ],
   "source": [
    "num * 2"
   ]
  },
  {
   "cell_type": "code",
   "execution_count": 45,
   "id": "861a0a53-e180-4e2b-a6bf-ca80a91e6d11",
   "metadata": {},
   "outputs": [
    {
     "data": {
      "text/plain": [
       "[45.0, 67.0, 23.56, 78.25, 89.03, 45.0, 67.0, 23.56, 78.25, 89.03]"
      ]
     },
     "execution_count": 45,
     "metadata": {},
     "output_type": "execute_result"
    }
   ],
   "source": [
    "list * 2"
   ]
  },
  {
   "cell_type": "code",
   "execution_count": 47,
   "id": "2cfd54ec-b8e5-480d-b444-4609b7b394ab",
   "metadata": {},
   "outputs": [
    {
     "data": {
      "text/plain": [
       "array([ True, False, False,  True,  True,  True, False])"
      ]
     },
     "execution_count": 47,
     "metadata": {},
     "output_type": "execute_result"
    }
   ],
   "source": [
    "num > 40"
   ]
  },
  {
   "cell_type": "code",
   "execution_count": 49,
   "id": "1255dd1d-872a-4757-8b4b-c82ab4ff8b14",
   "metadata": {},
   "outputs": [
    {
     "data": {
      "text/plain": [
       "array([56, 78, 52, 61], dtype=int16)"
      ]
     },
     "execution_count": 49,
     "metadata": {},
     "output_type": "execute_result"
    }
   ],
   "source": [
    "num[num > 40]"
   ]
  },
  {
   "cell_type": "markdown",
   "id": "8e8c4412-ca94-4033-b463-86a9f34df3cd",
   "metadata": {},
   "source": [
    "### Matrix Operation"
   ]
  },
  {
   "cell_type": "code",
   "execution_count": 55,
   "id": "88778021-716e-4cec-9b0a-fda8aee05420",
   "metadata": {},
   "outputs": [
    {
     "data": {
      "text/plain": [
       "array([[5, 6, 7],\n",
       "       [2, 4, 3],\n",
       "       [6, 8, 9],\n",
       "       [0, 1, 3]])"
      ]
     },
     "execution_count": 55,
     "metadata": {},
     "output_type": "execute_result"
    }
   ],
   "source": [
    "M = np.array([[5,6,7],[2,4,3],[6,8,9],[0,1,3]])\n",
    "M"
   ]
  },
  {
   "cell_type": "code",
   "execution_count": 58,
   "id": "09296558-69b6-4e53-9194-e550fcf4f0a3",
   "metadata": {},
   "outputs": [
    {
     "data": {
      "text/plain": [
       "2"
      ]
     },
     "execution_count": 58,
     "metadata": {},
     "output_type": "execute_result"
    }
   ],
   "source": [
    "M.ndim"
   ]
  },
  {
   "cell_type": "code",
   "execution_count": 60,
   "id": "384acd31-e566-41b2-9ad5-6aa523dd8861",
   "metadata": {},
   "outputs": [
    {
     "data": {
      "text/plain": [
       "(4, 3)"
      ]
     },
     "execution_count": 60,
     "metadata": {},
     "output_type": "execute_result"
    }
   ],
   "source": [
    "M.shape  ####dimension ---  Rowa and Column"
   ]
  },
  {
   "cell_type": "code",
   "execution_count": 62,
   "id": "908cd151-3c8b-41dc-9d2c-dd182f393038",
   "metadata": {},
   "outputs": [
    {
     "data": {
      "text/plain": [
       "12"
      ]
     },
     "execution_count": 62,
     "metadata": {},
     "output_type": "execute_result"
    }
   ],
   "source": [
    "M.size ########## How many elements are there"
   ]
  },
  {
   "cell_type": "code",
   "execution_count": 66,
   "id": "95af380b-58e9-4ed8-9450-126c5b8777b6",
   "metadata": {},
   "outputs": [
    {
     "data": {
      "text/plain": [
       "8"
      ]
     },
     "execution_count": 66,
     "metadata": {},
     "output_type": "execute_result"
    }
   ],
   "source": [
    "M[2,1]"
   ]
  },
  {
   "cell_type": "code",
   "execution_count": 68,
   "id": "d1b4476a-77e2-459e-891b-88744b8b0ecc",
   "metadata": {},
   "outputs": [
    {
     "data": {
      "text/plain": [
       "array([[5, 2, 6, 0],\n",
       "       [6, 4, 8, 1],\n",
       "       [7, 3, 9, 3]])"
      ]
     },
     "execution_count": 68,
     "metadata": {},
     "output_type": "execute_result"
    }
   ],
   "source": [
    "M.T"
   ]
  },
  {
   "cell_type": "code",
   "execution_count": 70,
   "id": "6b5f02ef-cfe8-4c55-8fee-bdc0e50d782d",
   "metadata": {},
   "outputs": [
    {
     "data": {
      "text/plain": [
       "array([[5, 2, 6, 0],\n",
       "       [6, 4, 8, 1],\n",
       "       [7, 3, 9, 3]])"
      ]
     },
     "execution_count": 70,
     "metadata": {},
     "output_type": "execute_result"
    }
   ],
   "source": [
    "M.transpose()"
   ]
  },
  {
   "cell_type": "code",
   "execution_count": 72,
   "id": "3cbc4b73-5f38-46dd-a982-0f2da0c956b1",
   "metadata": {},
   "outputs": [
    {
     "data": {
      "text/plain": [
       "array([[5, 6],\n",
       "       [7, 2],\n",
       "       [4, 3],\n",
       "       [6, 8],\n",
       "       [9, 0],\n",
       "       [1, 3]])"
      ]
     },
     "execution_count": 72,
     "metadata": {},
     "output_type": "execute_result"
    }
   ],
   "source": [
    "M.reshape(6,2)"
   ]
  },
  {
   "cell_type": "code",
   "execution_count": 74,
   "id": "95d2032c-80bc-4042-8396-10c9eac01d62",
   "metadata": {},
   "outputs": [
    {
     "data": {
      "text/plain": [
       "array([5, 6, 7, 2, 4, 3, 6, 8, 9, 0, 1, 3])"
      ]
     },
     "execution_count": 74,
     "metadata": {},
     "output_type": "execute_result"
    }
   ],
   "source": [
    "M.flatten()"
   ]
  },
  {
   "cell_type": "code",
   "execution_count": 76,
   "id": "5cfeb933-4f16-4e71-8699-08aabd4f4ff5",
   "metadata": {},
   "outputs": [
    {
     "data": {
      "text/plain": [
       "array([5, 6, 7, 2, 4, 3, 6, 8, 9, 0, 1, 3])"
      ]
     },
     "execution_count": 76,
     "metadata": {},
     "output_type": "execute_result"
    }
   ],
   "source": [
    "M.reshape(-1) ####If no of elements are not known"
   ]
  },
  {
   "cell_type": "code",
   "execution_count": 80,
   "id": "10b82b6f-0513-4591-8300-a81ea583118e",
   "metadata": {},
   "outputs": [
    {
     "data": {
      "text/plain": [
       "array([[5, 6, 7, 2],\n",
       "       [4, 3, 6, 8],\n",
       "       [9, 0, 1, 3]])"
      ]
     },
     "execution_count": 80,
     "metadata": {},
     "output_type": "execute_result"
    }
   ],
   "source": [
    "M.reshape(-1,4)   ###Rows are adjusted but compulsorily 4 column"
   ]
  },
  {
   "cell_type": "code",
   "execution_count": 84,
   "id": "5a254949-05b9-499e-94ec-fbabb40b716b",
   "metadata": {},
   "outputs": [
    {
     "data": {
      "text/plain": [
       "array([5, 6, 7, 2, 4, 3, 6, 8, 9, 0, 1, 3])"
      ]
     },
     "execution_count": 84,
     "metadata": {},
     "output_type": "execute_result"
    }
   ],
   "source": [
    "M.reshape(-1)"
   ]
  },
  {
   "cell_type": "markdown",
   "id": "cfe54ac9-7a8c-4c63-b152-40a65460d5be",
   "metadata": {},
   "source": [
    "### PANDAS"
   ]
  },
  {
   "cell_type": "code",
   "execution_count": null,
   "id": "2b803c60-e58d-4d13-bc9c-8b5e6de81750",
   "metadata": {},
   "outputs": [],
   "source": [
    "### load prepare model manipulate analyze\n"
   ]
  }
 ],
 "metadata": {
  "kernelspec": {
   "display_name": "Python 3 (ipykernel)",
   "language": "python",
   "name": "python3"
  },
  "language_info": {
   "codemirror_mode": {
    "name": "ipython",
    "version": 3
   },
   "file_extension": ".py",
   "mimetype": "text/x-python",
   "name": "python",
   "nbconvert_exporter": "python",
   "pygments_lexer": "ipython3",
   "version": "3.12.4"
  }
 },
 "nbformat": 4,
 "nbformat_minor": 5
}
