{
 "cells": [
  {
   "cell_type": "code",
   "execution_count": 3,
   "id": "04a8696f-6e8a-4708-a6d5-bae0bbbf921c",
   "metadata": {},
   "outputs": [
    {
     "data": {
      "text/plain": [
       "list"
      ]
     },
     "execution_count": 3,
     "metadata": {},
     "output_type": "execute_result"
    }
   ],
   "source": [
    "num = [45,24,76,41,84,29,62]  #####This is List []\n",
    "type(num)"
   ]
  },
  {
   "cell_type": "code",
   "execution_count": 5,
   "id": "9f498235-8ee2-408d-b4ce-18e715675458",
   "metadata": {},
   "outputs": [
    {
     "data": {
      "text/plain": [
       "tuple"
      ]
     },
     "execution_count": 5,
     "metadata": {},
     "output_type": "execute_result"
    }
   ],
   "source": [
    "num = (45,24,76,41,84,29,62) #####This is Tuple ()\n",
    "type(num)"
   ]
  },
  {
   "cell_type": "code",
   "execution_count": 7,
   "id": "9e1bfbd8-ad40-40d7-9078-eb7b4d11f5dc",
   "metadata": {},
   "outputs": [
    {
     "data": {
      "text/plain": [
       "set"
      ]
     },
     "execution_count": 7,
     "metadata": {},
     "output_type": "execute_result"
    }
   ],
   "source": [
    "num = {45,24,76,41,84,29,62} ##### This is Set {}\n",
    "type(num)"
   ]
  },
  {
   "cell_type": "code",
   "execution_count": 11,
   "id": "add89063-74bb-4cad-8930-c30361e86d7b",
   "metadata": {},
   "outputs": [
    {
     "data": {
      "text/plain": [
       "dict"
      ]
     },
     "execution_count": 11,
     "metadata": {},
     "output_type": "execute_result"
    }
   ],
   "source": [
    "num = {45:24,76:41,84:29,62:78} #####This is Dictionary\n",
    "type(num)"
   ]
  },
  {
   "cell_type": "code",
   "execution_count": null,
   "id": "b8a06050-4f2e-4dd9-81ad-131aa6521c19",
   "metadata": {},
   "outputs": [],
   "source": [
    "### LIST and its properties\n",
    "List can be heterogeneous\n",
    "List are mutable\n",
    "List is indexable\n",
    "Position start with 0\n",
    "list elements are iterable"
   ]
  },
  {
   "cell_type": "code",
   "execution_count": 15,
   "id": "818142c4-4fc3-48d6-b118-c62bd0f744fc",
   "metadata": {},
   "outputs": [
    {
     "data": {
      "text/plain": [
       "[67, 72, 35, 46.7, 'Pune', True, 28]"
      ]
     },
     "execution_count": 15,
     "metadata": {},
     "output_type": "execute_result"
    }
   ],
   "source": [
    "num = [45,24,76,41,84,29,62,28,94,55]\n",
    "mixed = [67,72,35,46.7,'Pune', True,28]\n",
    "mixed"
   ]
  },
  {
   "cell_type": "code",
   "execution_count": 23,
   "id": "3811b5d1-8289-4646-a8e9-5f1a1c52b053",
   "metadata": {},
   "outputs": [
    {
     "data": {
      "text/plain": [
       "'Pune'"
      ]
     },
     "execution_count": 23,
     "metadata": {},
     "output_type": "execute_result"
    }
   ],
   "source": [
    "mixed[-3]"
   ]
  },
  {
   "cell_type": "code",
   "execution_count": 29,
   "id": "8df3a6d9-b4c0-4934-a563-b08158399867",
   "metadata": {},
   "outputs": [
    {
     "name": "stdout",
     "output_type": "stream",
     "text": [
      "24\n",
      "76\n",
      "84\n",
      "62\n",
      "28\n",
      "94\n"
     ]
    }
   ],
   "source": [
    "for n in num:\n",
    "    if n%2 == 0:  ####prints even numbers in the list\n",
    "        print(n)"
   ]
  },
  {
   "cell_type": "code",
   "execution_count": 33,
   "id": "d1f3bdb5-7f59-40a2-a365-bbe0b6e93199",
   "metadata": {},
   "outputs": [
    {
     "data": {
      "text/plain": [
       "True"
      ]
     },
     "execution_count": 33,
     "metadata": {},
     "output_type": "execute_result"
    }
   ],
   "source": [
    "29 in num             ####### in operator"
   ]
  },
  {
   "cell_type": "code",
   "execution_count": 35,
   "id": "875c780a-4895-4a06-9fdc-e388cb192de2",
   "metadata": {},
   "outputs": [
    {
     "data": {
      "text/plain": [
       "True"
      ]
     },
     "execution_count": 35,
     "metadata": {},
     "output_type": "execute_result"
    }
   ],
   "source": [
    "38 not in num              ########### not in operator"
   ]
  },
  {
   "cell_type": "code",
   "execution_count": 37,
   "id": "a5031d94-0e9a-4a9a-a156-60cf98b84df0",
   "metadata": {},
   "outputs": [
    {
     "data": {
      "text/plain": [
       "list"
      ]
     },
     "execution_count": 37,
     "metadata": {},
     "output_type": "execute_result"
    }
   ],
   "source": [
    "e = []      #####empty list\n",
    "type(e)"
   ]
  },
  {
   "cell_type": "code",
   "execution_count": 45,
   "id": "e992a09b-10c5-486c-83ba-ec573b13f754",
   "metadata": {},
   "outputs": [
    {
     "data": {
      "text/plain": [
       "[26, 78]"
      ]
     },
     "execution_count": 45,
     "metadata": {},
     "output_type": "execute_result"
    }
   ],
   "source": [
    "e += [26]     ####append operation. Appends at the end of list\n",
    "e += [78]     ####append operation. Appends at the end of list"
   ]
  },
  {
   "cell_type": "code",
   "execution_count": 69,
   "id": "eb26699a-51a6-433d-ac93-ab240bd4411b",
   "metadata": {},
   "outputs": [
    {
     "data": {
      "text/plain": [
       "[41, 84, 29, 62, 28]"
      ]
     },
     "execution_count": 69,
     "metadata": {},
     "output_type": "execute_result"
    }
   ],
   "source": [
    "##slicing list\n",
    "x =num[3:8]\n",
    "x"
   ]
  },
  {
   "cell_type": "code",
   "execution_count": 59,
   "id": "01a4bedd-1876-4b29-865e-ef5b44521199",
   "metadata": {},
   "outputs": [
    {
     "data": {
      "text/plain": [
       "[29, 62, 28, 94, 55]"
      ]
     },
     "execution_count": 59,
     "metadata": {},
     "output_type": "execute_result"
    }
   ],
   "source": [
    "num[5:]"
   ]
  },
  {
   "cell_type": "code",
   "execution_count": 71,
   "id": "b05b7a68-7287-4b36-acdb-d70347b9b177",
   "metadata": {},
   "outputs": [
    {
     "data": {
      "text/plain": [
       "[45, 24, 76, 41, 84, 29]"
      ]
     },
     "execution_count": 71,
     "metadata": {},
     "output_type": "execute_result"
    }
   ],
   "source": [
    "num[:6]"
   ]
  },
  {
   "cell_type": "code",
   "execution_count": 75,
   "id": "d8bcd2aa-11f3-41ec-af0b-fc33e776722d",
   "metadata": {},
   "outputs": [
    {
     "data": {
      "text/plain": [
       "[41,\n",
       " 84,\n",
       " 29,\n",
       " 62,\n",
       " 28,\n",
       " 45,\n",
       " 24,\n",
       " 76,\n",
       " 41,\n",
       " 84,\n",
       " 29,\n",
       " 62,\n",
       " 28,\n",
       " 94,\n",
       " 55,\n",
       " 45,\n",
       " 24,\n",
       " 76,\n",
       " 41,\n",
       " 84,\n",
       " 29,\n",
       " 62,\n",
       " 28,\n",
       " 94,\n",
       " 55]"
      ]
     },
     "execution_count": 75,
     "metadata": {},
     "output_type": "execute_result"
    }
   ],
   "source": [
    "x += num  #####concatenation of list x = x + num\n",
    "x"
   ]
  },
  {
   "cell_type": "code",
   "execution_count": 79,
   "id": "007cb92e-85fe-48f0-8855-68460459d876",
   "metadata": {},
   "outputs": [
    {
     "data": {
      "text/plain": [
       "[45,\n",
       " 24,\n",
       " 76,\n",
       " 41,\n",
       " 84,\n",
       " 29,\n",
       " 62,\n",
       " 28,\n",
       " 94,\n",
       " 55,\n",
       " 45,\n",
       " 24,\n",
       " 76,\n",
       " 41,\n",
       " 84,\n",
       " 29,\n",
       " 62,\n",
       " 28,\n",
       " 94,\n",
       " 55,\n",
       " 45,\n",
       " 24,\n",
       " 76,\n",
       " 41,\n",
       " 84,\n",
       " 29,\n",
       " 62,\n",
       " 28,\n",
       " 94,\n",
       " 55]"
      ]
     },
     "execution_count": 79,
     "metadata": {},
     "output_type": "execute_result"
    }
   ],
   "source": [
    "num * 3   ####prints complete list 3 times"
   ]
  },
  {
   "cell_type": "code",
   "execution_count": 81,
   "id": "d0b497f0-8a76-4abe-998f-696b0970a348",
   "metadata": {},
   "outputs": [
    {
     "data": {
      "text/plain": [
       "10"
      ]
     },
     "execution_count": 81,
     "metadata": {},
     "output_type": "execute_result"
    }
   ],
   "source": [
    "len(num)  #####gives total number of elements in the list. Can be applied for string"
   ]
  },
  {
   "cell_type": "code",
   "execution_count": 83,
   "id": "265af6be-2eaf-4129-a73d-9a220cc3334b",
   "metadata": {},
   "outputs": [
    {
     "data": {
      "text/plain": [
       "(24, 94, 538)"
      ]
     },
     "execution_count": 83,
     "metadata": {},
     "output_type": "execute_result"
    }
   ],
   "source": [
    "min(num), max(num), sum(num)  ####to use these functions all elelments should be same data type"
   ]
  },
  {
   "cell_type": "code",
   "execution_count": 89,
   "id": "37cdc19d-fdda-4751-95c1-29c0a80f5be8",
   "metadata": {},
   "outputs": [
    {
     "data": {
      "text/plain": [
       "[24, 28, 29, 41, 45, 55, 62, 76, 84, 94]"
      ]
     },
     "execution_count": 89,
     "metadata": {},
     "output_type": "execute_result"
    }
   ],
   "source": [
    "sorted(num)"
   ]
  },
  {
   "cell_type": "code",
   "execution_count": 91,
   "id": "e6ae435b-6b1c-4a00-acd0-f50119777786",
   "metadata": {},
   "outputs": [
    {
     "data": {
      "text/plain": [
       "[94, 84, 76, 62, 55, 45, 41, 29, 28, 24]"
      ]
     },
     "execution_count": 91,
     "metadata": {},
     "output_type": "execute_result"
    }
   ],
   "source": [
    "sorted(num, reverse=True)"
   ]
  },
  {
   "cell_type": "code",
   "execution_count": 95,
   "id": "1d5fb3f9-c08b-42ab-96dd-c57e94ecf7da",
   "metadata": {},
   "outputs": [
    {
     "data": {
      "text/plain": [
       "[45, 24, 76, 41, 84, 29, 62, 28, 94, 55, 26, 26]"
      ]
     },
     "execution_count": 95,
     "metadata": {},
     "output_type": "execute_result"
    }
   ],
   "source": [
    "#### everything in python is subject\n",
    "num.append(26)\n",
    "num"
   ]
  },
  {
   "cell_type": "code",
   "execution_count": 123,
   "id": "026942ab-3463-4d77-8e0b-14106442bc36",
   "metadata": {},
   "outputs": [
    {
     "data": {
      "text/plain": [
       "[26, 26, 28, 29, 45, 55, 58, 62, 94]"
      ]
     },
     "execution_count": 123,
     "metadata": {},
     "output_type": "execute_result"
    }
   ],
   "source": [
    "num.remove(76)  ###removes based on value ###if nothing is mentioned then last value will be removed\n",
    "num"
   ]
  },
  {
   "cell_type": "code",
   "execution_count": 161,
   "id": "942cfc77-323e-4d2c-bd9f-89459c771846",
   "metadata": {},
   "outputs": [
    {
     "name": "stdout",
     "output_type": "stream",
     "text": [
      "['silver', 'gold', 'aluminium', 'gold', 'silver', 'silver', 'aluminium', 'gold', 'silver', 'gold']\n"
     ]
    },
    {
     "ename": "TypeError",
     "evalue": "list.remove() takes exactly one argument (0 given)",
     "output_type": "error",
     "traceback": [
      "\u001b[1;31m---------------------------------------------------------------------------\u001b[0m",
      "\u001b[1;31mTypeError\u001b[0m                                 Traceback (most recent call last)",
      "Cell \u001b[1;32mIn[161], line 2\u001b[0m\n\u001b[0;32m      1\u001b[0m \u001b[38;5;28mprint\u001b[39m(x)\n\u001b[1;32m----> 2\u001b[0m x\u001b[38;5;241m.\u001b[39mremove()\n\u001b[0;32m      3\u001b[0m x\n",
      "\u001b[1;31mTypeError\u001b[0m: list.remove() takes exactly one argument (0 given)"
     ]
    }
   ],
   "source": [
    "print(x)\n",
    "x.remove()\n",
    "x"
   ]
  },
  {
   "cell_type": "code",
   "execution_count": 103,
   "id": "189be054-d561-4bdc-9863-f0d6e79eb4ce",
   "metadata": {},
   "outputs": [
    {
     "data": {
      "text/plain": [
       "[45, 76, 29, 62, 28, 94, 55, 26, 26]"
      ]
     },
     "execution_count": 103,
     "metadata": {},
     "output_type": "execute_result"
    }
   ],
   "source": [
    "num.pop(2)  ###removes based on index\n",
    "num"
   ]
  },
  {
   "cell_type": "code",
   "execution_count": 105,
   "id": "92092c1f-9dc7-4b37-9763-397122affa7a",
   "metadata": {},
   "outputs": [
    {
     "data": {
      "text/plain": [
       "[45, 76, 29, 58, 62, 28, 94, 55, 26, 26]"
      ]
     },
     "execution_count": 105,
     "metadata": {},
     "output_type": "execute_result"
    }
   ],
   "source": [
    "num.insert(3,58)\n",
    "num"
   ]
  },
  {
   "cell_type": "code",
   "execution_count": 115,
   "id": "3d54a8e9-8fc6-4081-ba61-60005dbfdd4d",
   "metadata": {},
   "outputs": [
    {
     "data": {
      "text/plain": [
       "[26, 26, 55, 94, 28, 62, 58, 29, 76, 45]"
      ]
     },
     "execution_count": 115,
     "metadata": {},
     "output_type": "execute_result"
    }
   ],
   "source": [
    "num.reverse()\n",
    "num"
   ]
  },
  {
   "cell_type": "code",
   "execution_count": 119,
   "id": "29aa037a-84dd-41be-8b67-45762f70a095",
   "metadata": {},
   "outputs": [
    {
     "data": {
      "text/plain": [
       "[94, 76, 62, 58, 55, 45, 29, 28, 26, 26]"
      ]
     },
     "execution_count": 119,
     "metadata": {},
     "output_type": "execute_result"
    }
   ],
   "source": [
    "num.sort(reverse=True)    ####Sorts in Descending order\n",
    "num"
   ]
  },
  {
   "cell_type": "code",
   "execution_count": 121,
   "id": "48187469-a7d2-4bf3-b381-d7738cfbae93",
   "metadata": {},
   "outputs": [
    {
     "data": {
      "text/plain": [
       "[26, 26, 28, 29, 45, 55, 58, 62, 76, 94]"
      ]
     },
     "execution_count": 121,
     "metadata": {},
     "output_type": "execute_result"
    }
   ],
   "source": [
    "num.sort()   ####sorts in ascending order\n",
    "num"
   ]
  },
  {
   "cell_type": "code",
   "execution_count": 127,
   "id": "b9f45f43-78b7-4ca8-8654-ab0a77e6f85a",
   "metadata": {},
   "outputs": [
    {
     "data": {
      "text/plain": [
       "[]"
      ]
     },
     "execution_count": 127,
     "metadata": {},
     "output_type": "execute_result"
    }
   ],
   "source": [
    "num.clear()\n",
    "num"
   ]
  },
  {
   "cell_type": "code",
   "execution_count": 131,
   "id": "768cff6e-c9e7-4c8f-a00e-63dcc4caf0c8",
   "metadata": {},
   "outputs": [
    {
     "ename": "NameError",
     "evalue": "name 'num' is not defined",
     "output_type": "error",
     "traceback": [
      "\u001b[1;31m---------------------------------------------------------------------------\u001b[0m",
      "\u001b[1;31mNameError\u001b[0m                                 Traceback (most recent call last)",
      "Cell \u001b[1;32mIn[131], line 1\u001b[0m\n\u001b[1;32m----> 1\u001b[0m \u001b[38;5;28;01mdel\u001b[39;00m num\n",
      "\u001b[1;31mNameError\u001b[0m: name 'num' is not defined"
     ]
    }
   ],
   "source": [
    "del num"
   ]
  },
  {
   "cell_type": "code",
   "execution_count": 155,
   "id": "e40745b4-b2f5-4c12-85da-15b658afffb8",
   "metadata": {},
   "outputs": [
    {
     "name": "stdout",
     "output_type": "stream",
     "text": [
      "['silver', 'gold', 'aluminium', 'gold', 'silver', 'silver', 'aluminium', 'gold', 'silver', 'gold']\n"
     ]
    }
   ],
   "source": [
    "metals = ['silver','gold','copper','aluminium','gold','silver','silver','copper','aluminium','copper','gold','copper','silver','gold']\n",
    "x = []\n",
    "for n in metals:\n",
    "    if n != 'copper':\n",
    "        x.append(n)\n",
    "print(x)"
   ]
  },
  {
   "cell_type": "code",
   "execution_count": 157,
   "id": "ef2c44fb-1038-4f46-9cd5-26c49d412e44",
   "metadata": {},
   "outputs": [
    {
     "data": {
      "text/plain": [
       "[22.5, 16.0, 7.5, 33.5, 44.0, 27.5]"
      ]
     },
     "execution_count": 157,
     "metadata": {},
     "output_type": "execute_result"
    }
   ],
   "source": [
    "#####list comprehension\n",
    "num = [45,32,15,67,88,55]\n",
    "new = [n/2 for n in num]\n",
    "new"
   ]
  },
  {
   "cell_type": "code",
   "execution_count": 165,
   "id": "638e70cc-4108-4175-96c2-537bf5c17eb2",
   "metadata": {},
   "outputs": [
    {
     "data": {
      "text/plain": [
       "[45, 15, 67, 55]"
      ]
     },
     "execution_count": 165,
     "metadata": {},
     "output_type": "execute_result"
    }
   ],
   "source": [
    "new = [n for n in num if n % 2 == 1]\n",
    "new"
   ]
  },
  {
   "cell_type": "code",
   "execution_count": 167,
   "id": "26b75a73-91a4-4574-a1b6-eca18156619e",
   "metadata": {},
   "outputs": [
    {
     "data": {
      "text/plain": [
       "[22.5, 7.5, 33.5, 27.5]"
      ]
     },
     "execution_count": 167,
     "metadata": {},
     "output_type": "execute_result"
    }
   ],
   "source": [
    "new = [n/2 for n in num if n % 2 == 1]   ##########new = [Operation for loop condition]\n",
    "new"
   ]
  },
  {
   "cell_type": "code",
   "execution_count": 185,
   "id": "f0008c62-046a-40c1-a00f-1b58718f5465",
   "metadata": {},
   "outputs": [
    {
     "name": "stdout",
     "output_type": "stream",
     "text": [
      "['silver', 'gold', 'copper', 'aluminium', 'gold', 'silver', 'silver', 'copper', 'aluminium', 'copper', 'gold', 'copper', 'silver', 'gold']\n"
     ]
    }
   ],
   "source": [
    "metals = ['silver','gold','copper','aluminium','gold','silver','silver','copper','aluminium','copper','gold','copper','silver','gold']\n",
    "new_metals = [n for n in metals if n !='copper']\n",
    "new_metals\n",
    "print(metals)"
   ]
  },
  {
   "cell_type": "code",
   "execution_count": 197,
   "id": "7420876b-eb1f-4043-9ef4-2c7304291e41",
   "metadata": {},
   "outputs": [
    {
     "data": {
      "text/plain": [
       "[5, 6, 2, 8, 9, 0, 1, 3, 4, 7]"
      ]
     },
     "execution_count": 197,
     "metadata": {},
     "output_type": "execute_result"
    }
   ],
   "source": [
    "num = [5,6,2,8,9,1,3,7,4,0]\n",
    "count = len(num)//2\n",
    "lower= num[:count]\n",
    "higher = num[count:]\n",
    "higher.sort()\n",
    "new = lower + higher\n",
    "new"
   ]
  },
  {
   "cell_type": "code",
   "execution_count": 205,
   "id": "41703c0f-d204-44d0-901d-e81573c631f7",
   "metadata": {},
   "outputs": [
    {
     "data": {
      "text/plain": [
       "[5, 6, 2, 8, 9, 0, 1, 3, 4, 7]"
      ]
     },
     "execution_count": 205,
     "metadata": {},
     "output_type": "execute_result"
    }
   ],
   "source": [
    "num[:count] + sorted(num[count:])"
   ]
  },
  {
   "cell_type": "markdown",
   "id": "71b29f47-84a2-406a-8774-98aa6d9b2fd2",
   "metadata": {},
   "source": [
    "##Tuples\n",
    "##Tuples are immutable: cant change any content"
   ]
  },
  {
   "cell_type": "code",
   "execution_count": 213,
   "id": "d8fa76cf-861f-479c-8352-b4096d103423",
   "metadata": {},
   "outputs": [
    {
     "data": {
      "text/plain": [
       "tuple"
      ]
     },
     "execution_count": 213,
     "metadata": {},
     "output_type": "execute_result"
    }
   ],
   "source": [
    "num = (34,12,67,83,46,41,10)\n",
    "type(num)"
   ]
  },
  {
   "cell_type": "code",
   "execution_count": 219,
   "id": "6a10fbab-4870-41ab-b74a-979fc918b319",
   "metadata": {},
   "outputs": [
    {
     "data": {
      "text/plain": [
       "10"
      ]
     },
     "execution_count": 219,
     "metadata": {},
     "output_type": "execute_result"
    }
   ],
   "source": [
    "num[6]"
   ]
  },
  {
   "cell_type": "code",
   "execution_count": 221,
   "id": "c6405d48-fd9f-4eb4-9fb6-369c03f1b160",
   "metadata": {},
   "outputs": [
    {
     "ename": "TypeError",
     "evalue": "'tuple' object does not support item assignment",
     "output_type": "error",
     "traceback": [
      "\u001b[1;31m---------------------------------------------------------------------------\u001b[0m",
      "\u001b[1;31mTypeError\u001b[0m                                 Traceback (most recent call last)",
      "Cell \u001b[1;32mIn[221], line 1\u001b[0m\n\u001b[1;32m----> 1\u001b[0m num[\u001b[38;5;241m3\u001b[39m] \u001b[38;5;241m=\u001b[39m \u001b[38;5;241m56\u001b[39m\n",
      "\u001b[1;31mTypeError\u001b[0m: 'tuple' object does not support item assignment"
     ]
    }
   ],
   "source": [
    "num[3] = 56"
   ]
  },
  {
   "cell_type": "code",
   "execution_count": 227,
   "id": "405e7c5e-7dde-4959-ac5b-268c1e42b77b",
   "metadata": {},
   "outputs": [
    {
     "data": {
      "text/plain": [
       "(34, 12, 67, 83, 46, 41, 10)"
      ]
     },
     "execution_count": 227,
     "metadata": {},
     "output_type": "execute_result"
    }
   ],
   "source": [
    "num = 34,12,67,83,46,41,10 #by default its tuple\n",
    "num"
   ]
  },
  {
   "cell_type": "code",
   "execution_count": 229,
   "id": "6aa99fb7-17b1-42ab-8f3c-b1ab5126d3ba",
   "metadata": {},
   "outputs": [],
   "source": [
    "###########SETS\n",
    "sets are mutable\n",
    "sets are not indexable\n",
    "sets are also iterable"
   ]
  },
  {
   "cell_type": "code",
   "execution_count": 233,
   "id": "6b45c4f5-14a0-47f7-b304-946d4b0330da",
   "metadata": {},
   "outputs": [
    {
     "data": {
      "text/plain": [
       "{2, 3, 4, 5, 6, 7, 8}"
      ]
     },
     "execution_count": 233,
     "metadata": {},
     "output_type": "execute_result"
    }
   ],
   "source": [
    "s = {5,4,3,2,7,5,4,6,7,8,6,5}\n",
    "s"
   ]
  },
  {
   "cell_type": "code",
   "execution_count": 235,
   "id": "9505f1eb-0930-48f2-8f74-482595a2b398",
   "metadata": {},
   "outputs": [
    {
     "data": {
      "text/plain": [
       "{2, 3, 4, 5, 6, 7, 8, 11}"
      ]
     },
     "execution_count": 235,
     "metadata": {},
     "output_type": "execute_result"
    }
   ],
   "source": [
    "s.add(11)\n",
    "s"
   ]
  },
  {
   "cell_type": "code",
   "execution_count": 237,
   "id": "274ccdd2-b93a-44f8-b031-64b570cb5d59",
   "metadata": {},
   "outputs": [
    {
     "data": {
      "text/plain": [
       "{11, 2, 3, 4, 5, 6, 7, 8, 'gold'}"
      ]
     },
     "execution_count": 237,
     "metadata": {},
     "output_type": "execute_result"
    }
   ],
   "source": [
    "s.add('gold')\n",
    "s"
   ]
  },
  {
   "cell_type": "code",
   "execution_count": 241,
   "id": "d5c6b1e5-5421-486b-ab9a-a6278e994fd1",
   "metadata": {},
   "outputs": [
    {
     "data": {
      "text/plain": [
       "{1, 2, 3, 4, 5, 6, 7}"
      ]
     },
     "execution_count": 241,
     "metadata": {},
     "output_type": "execute_result"
    }
   ],
   "source": [
    "s1 = {1,2,3,4,5}\n",
    "s2 = {3,4,5,6,7}\n",
    "s1.union(s2)     ###merge with unique entry of each element"
   ]
  },
  {
   "cell_type": "code",
   "execution_count": 245,
   "id": "6b804db7-1eae-4752-ac01-35c4ec66430f",
   "metadata": {},
   "outputs": [
    {
     "data": {
      "text/plain": [
       "{3, 4, 5}"
      ]
     },
     "execution_count": 245,
     "metadata": {},
     "output_type": "execute_result"
    }
   ],
   "source": [
    "s1.intersection(s2)    #####lists out common elements"
   ]
  },
  {
   "cell_type": "code",
   "execution_count": 249,
   "id": "e56fb5c9-d198-458c-bc46-a460da155342",
   "metadata": {},
   "outputs": [
    {
     "data": {
      "text/plain": [
       "{1, 2}"
      ]
     },
     "execution_count": 249,
     "metadata": {},
     "output_type": "execute_result"
    }
   ],
   "source": [
    "s1.difference(s2)  ###present in s1 but not in s2"
   ]
  },
  {
   "cell_type": "code",
   "execution_count": 251,
   "id": "3a283c73-87ce-491d-8290-ec07256b966f",
   "metadata": {},
   "outputs": [
    {
     "data": {
      "text/plain": [
       "{6, 7}"
      ]
     },
     "execution_count": 251,
     "metadata": {},
     "output_type": "execute_result"
    }
   ],
   "source": [
    "s2.difference(s1)  ###present in s2 but not in s1"
   ]
  },
  {
   "cell_type": "markdown",
   "id": "e43cf049-c4e8-436d-af41-5848fcb7da96",
   "metadata": {},
   "source": [
    "##### Dictionary"
   ]
  },
  {
   "cell_type": "code",
   "execution_count": 260,
   "id": "e256b0f4-e422-4d1f-a549-af44ea2c7097",
   "metadata": {},
   "outputs": [],
   "source": [
    "d = {2:56, 5:27, 6:37, 7:372, 'a':'apple'}          #####first is key and second parameter is value"
   ]
  },
  {
   "cell_type": "code",
   "execution_count": 262,
   "id": "9ffdd895-387f-44d2-a285-3c8a3163e35b",
   "metadata": {},
   "outputs": [
    {
     "data": {
      "text/plain": [
       "56"
      ]
     },
     "execution_count": 262,
     "metadata": {},
     "output_type": "execute_result"
    }
   ],
   "source": [
    "d[2]"
   ]
  },
  {
   "cell_type": "code",
   "execution_count": 266,
   "id": "3b88d222-1234-45cf-a9b2-0aa0c6d8d454",
   "metadata": {},
   "outputs": [
    {
     "data": {
      "text/plain": [
       "'apple'"
      ]
     },
     "execution_count": 266,
     "metadata": {},
     "output_type": "execute_result"
    }
   ],
   "source": [
    "d['a']"
   ]
  },
  {
   "cell_type": "code",
   "execution_count": 270,
   "id": "c87b7e21-7469-4b5e-a3ce-9b8be9f192d6",
   "metadata": {},
   "outputs": [
    {
     "data": {
      "text/plain": [
       "{2: 56, 5: 27, 6: 1000, 7: 372, 'a': 'apple'}"
      ]
     },
     "execution_count": 270,
     "metadata": {},
     "output_type": "execute_result"
    }
   ],
   "source": [
    "d[6] =1000\n",
    "d"
   ]
  },
  {
   "cell_type": "code",
   "execution_count": 272,
   "id": "4dc1b33f-7061-483c-9024-8e7eb782f5e9",
   "metadata": {},
   "outputs": [
    {
     "data": {
      "text/plain": [
       "{2: 56, 5: 27, 6: 1000, 7: 372, 'a': 'apple', 10: 100}"
      ]
     },
     "execution_count": 272,
     "metadata": {},
     "output_type": "execute_result"
    }
   ],
   "source": [
    "d[10] = 100\n",
    "d"
   ]
  },
  {
   "cell_type": "code",
   "execution_count": 274,
   "id": "03333780-354a-4b28-91d1-1bf34633f6a0",
   "metadata": {},
   "outputs": [
    {
     "data": {
      "text/plain": [
       "{2: 56, 5: 27, 6: 1000, 7: 372, 'a': 'apple', 10: 100, 's': 'Saurav'}"
      ]
     },
     "execution_count": 274,
     "metadata": {},
     "output_type": "execute_result"
    }
   ],
   "source": [
    "d['s'] = 'Saurav'\n",
    "d"
   ]
  },
  {
   "cell_type": "code",
   "execution_count": 278,
   "id": "5e363590-798b-421d-9b27-f17cb576812c",
   "metadata": {},
   "outputs": [
    {
     "data": {
      "text/plain": [
       "dict"
      ]
     },
     "execution_count": 278,
     "metadata": {},
     "output_type": "execute_result"
    }
   ],
   "source": [
    "x = {}\n",
    "type(x)"
   ]
  },
  {
   "cell_type": "code",
   "execution_count": 290,
   "id": "baaaeb69-08e3-4852-98e9-ba3c48108739",
   "metadata": {},
   "outputs": [
    {
     "name": "stdout",
     "output_type": "stream",
     "text": [
      "l is : [5, 6, 4, 2, 5, 3, 5, 8]\n",
      "t is : (7, 8, 5, 3, 1, 2, 3, 4)\n",
      "s is : {5, 6, 7, 8, 9}\n"
     ]
    }
   ],
   "source": [
    "################# conversion of data structures\n",
    "l = [5,6,4,2,5,3,5,8]\n",
    "t = (7,8,5,3,1,2,3,4)\n",
    "s = {6,5,7,6,8,9,9}\n",
    "print('l is :', l)\n",
    "print('t is :', t)\n",
    "print('s is :', s)"
   ]
  },
  {
   "cell_type": "code",
   "execution_count": 286,
   "id": "901872c4-25ac-4fbb-91c0-a91e8e832f38",
   "metadata": {},
   "outputs": [
    {
     "data": {
      "text/plain": [
       "[7, 8, 5, 3, 1, 2, 3, 4]"
      ]
     },
     "execution_count": 286,
     "metadata": {},
     "output_type": "execute_result"
    }
   ],
   "source": [
    "list(t)"
   ]
  },
  {
   "cell_type": "code",
   "execution_count": 292,
   "id": "9da121c2-35b3-49a7-971d-93df1fe04bdd",
   "metadata": {},
   "outputs": [
    {
     "data": {
      "text/plain": [
       "{2, 3, 4, 5, 6, 8}"
      ]
     },
     "execution_count": 292,
     "metadata": {},
     "output_type": "execute_result"
    }
   ],
   "source": [
    "s_L = set(l)\n",
    "s_L"
   ]
  },
  {
   "cell_type": "code",
   "execution_count": 294,
   "id": "6c6e1c54-b876-48ad-98e2-7f1633776bff",
   "metadata": {},
   "outputs": [
    {
     "data": {
      "text/plain": [
       "{1, 2, 3, 4, 5, 7, 8}"
      ]
     },
     "execution_count": 294,
     "metadata": {},
     "output_type": "execute_result"
    }
   ],
   "source": [
    "set(t)"
   ]
  },
  {
   "cell_type": "code",
   "execution_count": 296,
   "id": "7b3493c9-f050-4ccc-8091-a97ecafd4cd0",
   "metadata": {},
   "outputs": [
    {
     "data": {
      "text/plain": [
       "[5, 6, 7, 8, 9]"
      ]
     },
     "execution_count": 296,
     "metadata": {},
     "output_type": "execute_result"
    }
   ],
   "source": [
    "list(s)"
   ]
  },
  {
   "cell_type": "code",
   "execution_count": null,
   "id": "550a28a8-bb4d-4ddd-b533-d21040c71028",
   "metadata": {},
   "outputs": [],
   "source": []
  }
 ],
 "metadata": {
  "kernelspec": {
   "display_name": "Python 3 (ipykernel)",
   "language": "python",
   "name": "python3"
  },
  "language_info": {
   "codemirror_mode": {
    "name": "ipython",
    "version": 3
   },
   "file_extension": ".py",
   "mimetype": "text/x-python",
   "name": "python",
   "nbconvert_exporter": "python",
   "pygments_lexer": "ipython3",
   "version": "3.12.4"
  }
 },
 "nbformat": 4,
 "nbformat_minor": 5
}
