{
 "cells": [
  {
   "cell_type": "code",
   "execution_count": 17,
   "id": "f961d2f2-8aca-4b9b-8186-262f065a7096",
   "metadata": {},
   "outputs": [
    {
     "name": "stdin",
     "output_type": "stream",
     "text": [
      "Enter the Number: 5\n"
     ]
    },
    {
     "name": "stdout",
     "output_type": "stream",
     "text": [
      "Number is Positive\n",
      "Yeahhhhhh\n"
     ]
    }
   ],
   "source": [
    "#########If Else\n",
    "num = int (input('Enter the Number:'))\n",
    "if num > 0:                              #Compulsory, Condition, Non-repeatable\n",
    "    print('Number is Positive')\n",
    "    print('Yeahhhhhh')\n",
    "elif num < 0:                 # Optional, Condition, Repeatable\n",
    "    print('Number is Negative')\n",
    "    print(':(:(:(:(:(')\n",
    "else:                         # Optional, No-condition, Non-repeatable\n",
    "    print('You have entered Zero')"
   ]
  },
  {
   "cell_type": "code",
   "execution_count": 31,
   "id": "3b3f3042-118e-4fda-98cc-5d039ca3d4c6",
   "metadata": {},
   "outputs": [
    {
     "name": "stdin",
     "output_type": "stream",
     "text": [
      "Enter the Number: 0\n"
     ]
    },
    {
     "name": "stdout",
     "output_type": "stream",
     "text": [
      "Entered Zero, neither odd nor even\n"
     ]
    }
   ],
   "source": [
    "num = int (input('Enter the Number:'))\n",
    "if num == 0:\n",
    "    print('Entered Zero, neither odd nor even')\n",
    "elif num%2 == 0:\n",
    "    print('Entered number is Even:', num)\n",
    "elif num == 1:\n",
    "    print('Entered One, neither odd nor even')\n",
    "else:\n",
    "    print('Entered number is Odd', num)"
   ]
  },
  {
   "cell_type": "code",
   "execution_count": 35,
   "id": "4c4e893d-c8b5-441b-b0c0-00e99708a073",
   "metadata": {},
   "outputs": [
    {
     "name": "stdout",
     "output_type": "stream",
     "text": [
      "Shweta\n",
      "Shweta\n",
      "Shweta\n",
      "Shweta\n",
      "Shweta\n",
      "Shweta\n",
      "Shweta\n",
      "Shweta\n",
      "Shweta\n",
      "Shweta\n",
      "Final count value is: 10\n"
     ]
    }
   ],
   "source": [
    "##############While Loop\n",
    "count = 0\n",
    "while count < 10:\n",
    "    print(\"Shweta\")\n",
    "    count += 1\n",
    "else:\n",
    "    print('Final count value is: %i' %(count))"
   ]
  },
  {
   "cell_type": "code",
   "execution_count": 39,
   "id": "b0241f38-6c9c-49f9-bf0d-d70dfd7d9b89",
   "metadata": {},
   "outputs": [
    {
     "name": "stdout",
     "output_type": "stream",
     "text": [
      "Number : 11\n",
      "Number : 12\n",
      "Number : 13\n",
      "Number : 14\n",
      "Number : 15\n",
      "Number : 16\n",
      "Number : 17\n",
      "Number : 18\n",
      "Number : 19\n",
      "Number : 20\n"
     ]
    }
   ],
   "source": [
    "count = 11\n",
    "while count <= 20:\n",
    "    print('Number : %i' %(count))\n",
    "    count +=1"
   ]
  },
  {
   "cell_type": "code",
   "execution_count": 45,
   "id": "0ff7d759-da54-4222-ae2a-2b984682f5b3",
   "metadata": {},
   "outputs": [
    {
     "name": "stdout",
     "output_type": "stream",
     "text": [
      "Addition of First ten odd numbers is : 55\n"
     ]
    }
   ],
   "source": [
    "##########Addition of first ten numbers\n",
    "add=0; count=1\n",
    "while count <=10:\n",
    "    add += count\n",
    "    count +=1\n",
    "print('Addition of First ten numbers is :', add)\n"
   ]
  },
  {
   "cell_type": "code",
   "execution_count": 47,
   "id": "e90d81fd-55ff-4f9a-b698-68a373ef3659",
   "metadata": {},
   "outputs": [
    {
     "name": "stdout",
     "output_type": "stream",
     "text": [
      "Addition of First ten odd numbers is : 100\n"
     ]
    }
   ],
   "source": [
    "##########Addition of first ten odd numbers\n",
    "add=0; count=1\n",
    "while count <=20:\n",
    "    add += count\n",
    "    count +=2\n",
    "print('Addition of First ten odd numbers is :', add)\n"
   ]
  },
  {
   "cell_type": "code",
   "execution_count": 54,
   "id": "fd0febc2-29ee-489a-9f93-7190672f8625",
   "metadata": {},
   "outputs": [
    {
     "name": "stdout",
     "output_type": "stream",
     "text": [
      "1\n",
      "2\n",
      "3\n",
      "4\n",
      "5\n",
      "6\n",
      "8.8\n",
      "shweta\n"
     ]
    }
   ],
   "source": [
    "#######for loop\n",
    "x = [1,2,3,4,5,6,8.8,'shweta']\n",
    "for i in x:\n",
    "    print(i)"
   ]
  },
  {
   "cell_type": "code",
   "execution_count": 56,
   "id": "8028129f-12ac-45de-b3d7-2866af464648",
   "metadata": {},
   "outputs": [
    {
     "name": "stdout",
     "output_type": "stream",
     "text": [
      "CCCCCCCCCCCCCCCCCCCCCCCCCCCCCCCCCCCCCCCCCCCCCCCCCC\n",
      "DDDDDDDDDDDDDDDDDDDDDDDDDDDDDDDDDDDDDDDDDDDDDDDDDD\n",
      "AAAAAAAAAAAAAAAAAAAAAAAAAAAAAAAAAAAAAAAAAAAAAAAAAA\n",
      "CCCCCCCCCCCCCCCCCCCCCCCCCCCCCCCCCCCCCCCCCCCCCCCCCC\n"
     ]
    }
   ],
   "source": [
    "name ='CDAC'\n",
    "for c in name:\n",
    "    print(c*50)"
   ]
  },
  {
   "cell_type": "code",
   "execution_count": 60,
   "id": "7611e132-9c86-4f9c-a0e8-da0cef8f6ae4",
   "metadata": {},
   "outputs": [
    {
     "data": {
      "text/plain": [
       "[0, 1, 2, 3, 4, 5, 6, 7, 8, 9]"
      ]
     },
     "execution_count": 60,
     "metadata": {},
     "output_type": "execute_result"
    }
   ],
   "source": [
    "list(range(10))"
   ]
  },
  {
   "cell_type": "code",
   "execution_count": 62,
   "id": "9613f95a-90da-453f-9950-ee7274a3135a",
   "metadata": {},
   "outputs": [
    {
     "data": {
      "text/plain": [
       "[4, 5, 6, 7, 8, 9]"
      ]
     },
     "execution_count": 62,
     "metadata": {},
     "output_type": "execute_result"
    }
   ],
   "source": [
    "list(range(4,10))"
   ]
  },
  {
   "cell_type": "code",
   "execution_count": 68,
   "id": "abc35e9b-89a1-426e-a0b4-68854eed7dde",
   "metadata": {},
   "outputs": [
    {
     "data": {
      "text/plain": [
       "[4, 7, 10, 13, 16, 19, 22]"
      ]
     },
     "execution_count": 68,
     "metadata": {},
     "output_type": "execute_result"
    }
   ],
   "source": [
    "list(range(4,23,3))"
   ]
  },
  {
   "cell_type": "code",
   "execution_count": 70,
   "id": "66837450-8729-470f-a620-cf8a56cf88e7",
   "metadata": {},
   "outputs": [
    {
     "name": "stdout",
     "output_type": "stream",
     "text": [
      "1\n",
      "4\n",
      "9\n",
      "16\n",
      "25\n"
     ]
    }
   ],
   "source": [
    "for n in range(1,6):\n",
    "    print(n*n)"
   ]
  },
  {
   "cell_type": "code",
   "execution_count": 72,
   "id": "61acc194-8bc5-40f8-9452-665074331c73",
   "metadata": {},
   "outputs": [
    {
     "name": "stdout",
     "output_type": "stream",
     "text": [
      "Shweta\n",
      "Shweta\n",
      "Shweta\n",
      "Shweta\n",
      "Shweta\n",
      "Shweta\n",
      "Shweta\n",
      "Shweta\n",
      "Shweta\n",
      "Shweta\n"
     ]
    }
   ],
   "source": [
    "for n in range(10):\n",
    "    print('Shweta')"
   ]
  },
  {
   "cell_type": "code",
   "execution_count": 80,
   "id": "c36f90b0-a5ad-428f-8268-702f008a381b",
   "metadata": {},
   "outputs": [
    {
     "name": "stdout",
     "output_type": "stream",
     "text": [
      "100\n"
     ]
    }
   ],
   "source": [
    "add=0\n",
    "for n in range(1,20,2):\n",
    "    add += n\n",
    "print(add)"
   ]
  },
  {
   "cell_type": "code",
   "execution_count": 86,
   "id": "a42c0478-1ca1-45d5-935e-3128c1cea928",
   "metadata": {},
   "outputs": [
    {
     "data": {
      "text/plain": [
       "55"
      ]
     },
     "execution_count": 86,
     "metadata": {},
     "output_type": "execute_result"
    }
   ],
   "source": [
    "sum(range(11))"
   ]
  },
  {
   "cell_type": "code",
   "execution_count": 88,
   "id": "5fde2c1f-ca09-4ef8-a470-32e7fa125766",
   "metadata": {},
   "outputs": [
    {
     "data": {
      "text/plain": [
       "100"
      ]
     },
     "execution_count": 88,
     "metadata": {},
     "output_type": "execute_result"
    }
   ],
   "source": [
    "sum(range(1,20,2))"
   ]
  },
  {
   "cell_type": "code",
   "execution_count": 96,
   "id": "fbd235d0-f63b-4370-8e72-f92d3a19d30f",
   "metadata": {},
   "outputs": [
    {
     "name": "stdout",
     "output_type": "stream",
     "text": [
      "0\n",
      "1\n",
      "2\n",
      "3\n",
      "4\n"
     ]
    }
   ],
   "source": [
    "##########Break Statement##################\n",
    "for i in range(10):\n",
    "    if i == 5:\n",
    "        break\n",
    "    print(i)"
   ]
  },
  {
   "cell_type": "code",
   "execution_count": 100,
   "id": "32b169ad-7f6d-49da-accc-c3789ade389d",
   "metadata": {},
   "outputs": [
    {
     "name": "stdout",
     "output_type": "stream",
     "text": [
      "0\n",
      "1\n",
      "2\n",
      "3\n",
      "4\n",
      "6\n",
      "7\n",
      "8\n",
      "9\n"
     ]
    }
   ],
   "source": [
    "############Continue#############\n",
    "for i in range(10):\n",
    "    if i == 5:\n",
    "        continue\n",
    "    print(i)"
   ]
  },
  {
   "cell_type": "code",
   "execution_count": null,
   "id": "6a94b510-cd93-4eb8-8459-e0c809f4f280",
   "metadata": {},
   "outputs": [],
   "source": [
    "########Data Structures:\n",
    "###List [] -\n",
    "###Tuples () -\n",
    "###Sets {} -\n",
    "###Dictionaries{ : } -"
   ]
  },
  {
   "cell_type": "code",
   "execution_count": null,
   "id": "d8e0197c-95b2-4c4a-af4d-55259f6ea2f1",
   "metadata": {},
   "outputs": [],
   "source": []
  }
 ],
 "metadata": {
  "kernelspec": {
   "display_name": "Python 3 (ipykernel)",
   "language": "python",
   "name": "python3"
  },
  "language_info": {
   "codemirror_mode": {
    "name": "ipython",
    "version": 3
   },
   "file_extension": ".py",
   "mimetype": "text/x-python",
   "name": "python",
   "nbconvert_exporter": "python",
   "pygments_lexer": "ipython3",
   "version": "3.12.4"
  }
 },
 "nbformat": 4,
 "nbformat_minor": 5
}
