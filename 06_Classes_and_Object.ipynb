{
 "cells": [
  {
   "cell_type": "code",
   "execution_count": 15,
   "id": "8d7538f6-f198-467b-8d9b-68b1c6118409",
   "metadata": {},
   "outputs": [],
   "source": [
    "##########Github.com/mituskillologies\n",
    "\n",
    "class Person:\n",
    "    #constructor\n",
    "    def __init__(self, n, a):\n",
    "        self.name = n     #instance variables, separate copies created for every variable\n",
    "        self.age = a      # attributes or properties of class\n",
    "    def show(self):       #function or behaviour\n",
    "        print('My data:', self.name, self.age)\n",
    "    def isEligibleForVoting(self):\n",
    "        if self.age >= 21:\n",
    "            return True\n",
    "        else:\n",
    "            return False\n",
    "        "
   ]
  },
  {
   "cell_type": "code",
   "execution_count": 19,
   "id": "6d4a5e16-36f2-4186-834c-d7c8886c097c",
   "metadata": {},
   "outputs": [],
   "source": [
    "#create the object\n",
    "ob1 = Person('Shweta', 34)\n",
    "ob2 = Person('Sunshine', 27)\n",
    "ob3 = Person('Sandhya',18)\n",
    "ob4 = Person('Bittu', 12)"
   ]
  },
  {
   "cell_type": "code",
   "execution_count": 27,
   "id": "8d372b5d-056c-4e43-aa84-901a55a5db96",
   "metadata": {},
   "outputs": [
    {
     "name": "stdout",
     "output_type": "stream",
     "text": [
      "My data: Shweta 34\n",
      "My data: Sunshine 27\n"
     ]
    }
   ],
   "source": [
    "ob1.show()\n",
    "ob2.show()"
   ]
  },
  {
   "cell_type": "code",
   "execution_count": 25,
   "id": "7727d8fd-7ae1-49cb-9f98-9349ca00bfcd",
   "metadata": {},
   "outputs": [
    {
     "data": {
      "text/plain": [
       "False"
      ]
     },
     "execution_count": 25,
     "metadata": {},
     "output_type": "execute_result"
    }
   ],
   "source": [
    "ob4.isEligibleForVoting()"
   ]
  },
  {
   "cell_type": "code",
   "execution_count": null,
   "id": "a2ddd333-7eca-4c1b-a2d3-64a7d27fe45b",
   "metadata": {},
   "outputs": [],
   "source": []
  }
 ],
 "metadata": {
  "kernelspec": {
   "display_name": "Python 3 (ipykernel)",
   "language": "python",
   "name": "python3"
  },
  "language_info": {
   "codemirror_mode": {
    "name": "ipython",
    "version": 3
   },
   "file_extension": ".py",
   "mimetype": "text/x-python",
   "name": "python",
   "nbconvert_exporter": "python",
   "pygments_lexer": "ipython3",
   "version": "3.12.4"
  }
 },
 "nbformat": 4,
 "nbformat_minor": 5
}
