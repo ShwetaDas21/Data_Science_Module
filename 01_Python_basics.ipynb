{
 "cells": [
  {
   "cell_type": "code",
   "execution_count": 5,
   "id": "7f26d26c-6351-482a-b9ea-b202ebc75b43",
   "metadata": {},
   "outputs": [
    {
     "name": "stdout",
     "output_type": "stream",
     "text": [
      "Hello World\n"
     ]
    }
   ],
   "source": [
    "print ('Hello World')"
   ]
  },
  {
   "cell_type": "code",
   "execution_count": 21,
   "id": "295ac720-9dc8-4499-b3ad-49aee253d5a1",
   "metadata": {},
   "outputs": [
    {
     "name": "stdout",
     "output_type": "stream",
     "text": [
      "Hello World\n",
      "Welcome!!!\n",
      "Good Bye\n"
     ]
    }
   ],
   "source": [
    "print ('Hello World')\n",
    "print ('Welcome!!!')\n",
    "print ('Good Bye')"
   ]
  },
  {
   "cell_type": "code",
   "execution_count": 25,
   "id": "9f2510c6-189a-472c-a8a0-03fb9c59aafa",
   "metadata": {},
   "outputs": [
    {
     "name": "stdout",
     "output_type": "stream",
     "text": [
      "100\n"
     ]
    }
   ],
   "source": [
    "num1 = 45\n",
    "num2 = 55\n",
    "add = num1 + num2\n",
    "print (add)"
   ]
  },
  {
   "cell_type": "code",
   "execution_count": 33,
   "id": "928355bc-4796-4a75-a553-9ff3480d4c68",
   "metadata": {},
   "outputs": [
    {
     "data": {
      "text/plain": [
       "float"
      ]
     },
     "execution_count": 33,
     "metadata": {},
     "output_type": "execute_result"
    }
   ],
   "source": [
    "type(num1)\n",
    "num2 = 55.3\n",
    "type(num2)"
   ]
  },
  {
   "cell_type": "code",
   "execution_count": 37,
   "id": "05687bcf-c668-4068-9d3f-3375ad7c8164",
   "metadata": {},
   "outputs": [
    {
     "data": {
      "text/plain": [
       "str"
      ]
     },
     "execution_count": 37,
     "metadata": {},
     "output_type": "execute_result"
    }
   ],
   "source": [
    "name = 'Shweta'\n",
    "type(name)"
   ]
  },
  {
   "cell_type": "code",
   "execution_count": 43,
   "id": "b5039559-c339-4cef-8872-8aa9908b1ca8",
   "metadata": {},
   "outputs": [
    {
     "name": "stdout",
     "output_type": "stream",
     "text": [
      "num is 67 45.2 56.0\n"
     ]
    }
   ],
   "source": [
    "num1, num2, num3 = 67,45.2, 56.0\n",
    "print('num is',num1,num2,num3)"
   ]
  },
  {
   "cell_type": "code",
   "execution_count": 49,
   "id": "b924460b-d2d8-4b31-bffc-75a07a10c753",
   "metadata": {},
   "outputs": [
    {
     "name": "stdout",
     "output_type": "stream",
     "text": [
      "67\n"
     ]
    }
   ],
   "source": [
    "num1 = num2 = num3 = 67\n",
    "print(num2)"
   ]
  },
  {
   "cell_type": "code",
   "execution_count": 57,
   "id": "1397dd8d-22d9-4909-b781-8298587ed9fc",
   "metadata": {},
   "outputs": [
    {
     "name": "stdout",
     "output_type": "stream",
     "text": [
      "My name is:  Shweta I got: 67.83 Marks\n"
     ]
    }
   ],
   "source": [
    "name = 'Shweta'\n",
    "marks = 67.83\n",
    "print('My name is: ',name, 'I got:',marks, 'Marks')"
   ]
  },
  {
   "cell_type": "code",
   "execution_count": 71,
   "id": "d2149765-0aa8-48d7-bef1-209e9aad2af2",
   "metadata": {},
   "outputs": [
    {
     "name": "stdout",
     "output_type": "stream",
     "text": [
      "My name is Shweta and marks are: 67.83\n"
     ]
    }
   ],
   "source": [
    "print('My name is %s and marks are: %.2f' %(name,marks))\n",
    "# %.2 f will truncate decimal to two digits after decimal"
   ]
  },
  {
   "cell_type": "code",
   "execution_count": 73,
   "id": "98134b23-e2f5-46be-9daf-84b2ccbb9003",
   "metadata": {},
   "outputs": [
    {
     "name": "stdout",
     "output_type": "stream",
     "text": [
      "My name is Shweta and marks are: 67\n"
     ]
    }
   ],
   "source": [
    "print('My name is %s and marks are: %i' %(name,marks)) #integer value of marks %i possible"
   ]
  },
  {
   "cell_type": "code",
   "execution_count": 81,
   "id": "5f6581b3-abc2-4f9e-98bf-94672e6ffbd3",
   "metadata": {},
   "outputs": [
    {
     "name": "stdout",
     "output_type": "stream",
     "text": [
      "100\n"
     ]
    }
   ],
   "source": [
    "num1 = 45; num2 = 55; add = num1 + num2; print(add)"
   ]
  },
  {
   "cell_type": "markdown",
   "id": "9f1f8249-df1a-4d9c-b271-d31faba326b5",
   "metadata": {},
   "source": [
    "#### Operators"
   ]
  },
  {
   "cell_type": "code",
   "execution_count": 94,
   "id": "6480b8ec-d87b-4df4-9092-66acadd68456",
   "metadata": {},
   "outputs": [
    {
     "name": "stdout",
     "output_type": "stream",
     "text": [
      "56\n",
      "44\n",
      "300\n",
      "8.333333333333334\n",
      "8\n",
      "2\n",
      "15625000000\n"
     ]
    }
   ],
   "source": [
    "##### Arithmetic Operations\n",
    "\n",
    "num1 = 50; num2 = 6\n",
    "add = num1 + num2 # Addtion Operation\n",
    "print(add)\n",
    "sub = num1 - num2 # Subtraction\n",
    "print(sub)\n",
    "mult = num1 * num2 # Multiplication\n",
    "print(mult)\n",
    "Division = num1 /num2 # Division\n",
    "FDivision = num1 // num2 # Floor Division\n",
    "MDivision = num1 % num2 # Modulo Division\n",
    "Power = num1 ** num2 # Power of\n",
    "\n",
    "print (Division)\n",
    "print (FDivision)\n",
    "print (MDivision)\n",
    "print (Power)"
   ]
  },
  {
   "cell_type": "code",
   "execution_count": 114,
   "id": "c2c0ab88-b433-42e9-8600-a68ea1c1c832",
   "metadata": {},
   "outputs": [
    {
     "name": "stdout",
     "output_type": "stream",
     "text": [
      "64\n",
      "30\n",
      "64\n",
      "1.0\n",
      "1\n"
     ]
    }
   ],
   "source": [
    "##### Assignment Operators\n",
    "num1 = 32; num1 += 32\n",
    "print(num1)\n",
    "num1 = 32; num1 -= 2\n",
    "print(num1)\n",
    "num1 = 32; num1 *= 2\n",
    "print(num1)\n",
    "num1 = 32; num1 /= 32\n",
    "print(num1)\n",
    "num1 = 32; num1 //= 32\n",
    "print(num1)"
   ]
  },
  {
   "cell_type": "code",
   "execution_count": 118,
   "id": "397df61f-f12d-494f-97f0-719ba536a979",
   "metadata": {},
   "outputs": [
    {
     "name": "stdout",
     "output_type": "stream",
     "text": [
      "Greater Than True\n",
      "Greater Than / Equal True\n",
      "Less Than False\n",
      "Less Than / Equal False\n",
      "Equal False\n",
      "Not Equal True\n"
     ]
    }
   ],
   "source": [
    "#### Relational Operators\n",
    "num1 = 67\n",
    "num2 = 19\n",
    "print('Greater Than', num1 > num2)\n",
    "print('Greater Than / Equal', num1 >= num2)\n",
    "print('Less Than', num1 < num2)\n",
    "print('Less Than / Equal', num1 <= num2)\n",
    "print('Equal', num1 == num2)\n",
    "print('Not Equal', num1 != num2)"
   ]
  },
  {
   "cell_type": "code",
   "execution_count": 126,
   "id": "60678394-f431-4e07-a783-d7c71fcab54a",
   "metadata": {},
   "outputs": [
    {
     "name": "stdout",
     "output_type": "stream",
     "text": [
      "AND: True\n",
      "OR: True\n"
     ]
    }
   ],
   "source": [
    "###### Logical Operators\n",
    "\n",
    "num1 = 67\n",
    "num2 = 19\n",
    "print('AND:', (num1 > num2) and (num1 < 100))\n",
    "print('OR:', (num1 > num2) or (num1 > 100))"
   ]
  },
  {
   "cell_type": "code",
   "execution_count": 134,
   "id": "fb74c0e8-d369-4d16-9895-dbcd493be5d4",
   "metadata": {},
   "outputs": [
    {
     "data": {
      "text/plain": [
       "True"
      ]
     },
     "execution_count": 134,
     "metadata": {},
     "output_type": "execute_result"
    }
   ],
   "source": [
    "# Membership selection\n",
    "name = 'Shweta'\n",
    "'b' in name\n",
    "'a' in name"
   ]
  },
  {
   "cell_type": "code",
   "execution_count": 140,
   "id": "220818ef-9c56-44c5-b9ff-cd94101231cd",
   "metadata": {},
   "outputs": [
    {
     "data": {
      "text/plain": [
       "True"
      ]
     },
     "execution_count": 140,
     "metadata": {},
     "output_type": "execute_result"
    }
   ],
   "source": [
    "x = [5,4,2,5,6,7] #List\n",
    "9 in x\n",
    "7 in x"
   ]
  },
  {
   "cell_type": "code",
   "execution_count": 144,
   "id": "7cd04a6b-8007-4c8f-b5cb-63b2bd753882",
   "metadata": {},
   "outputs": [
    {
     "data": {
      "text/plain": [
       "True"
      ]
     },
     "execution_count": 144,
     "metadata": {},
     "output_type": "execute_result"
    }
   ],
   "source": [
    "x = [5,4,2,'Pune',5,6,7] # any variable data type\n",
    "'Pune' in x"
   ]
  },
  {
   "cell_type": "code",
   "execution_count": 188,
   "id": "4f5e8c12-ba30-430e-936d-6898e3543240",
   "metadata": {},
   "outputs": [
    {
     "name": "stdin",
     "output_type": "stream",
     "text": [
      "Enter the value of temperature in Centigrade 98.4\n"
     ]
    },
    {
     "name": "stdout",
     "output_type": "stream",
     "text": [
      "Temp in F is :%.2f 209.12\n"
     ]
    }
   ],
   "source": [
    "Centigrade = float (input(\"Enter the value of temperature in Centigrade\"))\n",
    "Fahren= (Centigrade*9/5)+32; print('Temp in F is :%.2f', Fahren)"
   ]
  },
  {
   "cell_type": "raw",
   "id": "af3a5431-26ff-4c56-bfa5-ed10a9500a83",
   "metadata": {},
   "source": []
  },
  {
   "cell_type": "code",
   "execution_count": null,
   "id": "9fc0943e-bdcf-403f-8b84-021a2320535b",
   "metadata": {},
   "outputs": [],
   "source": []
  }
 ],
 "metadata": {
  "kernelspec": {
   "display_name": "Python 3 (ipykernel)",
   "language": "python",
   "name": "python3"
  },
  "language_info": {
   "codemirror_mode": {
    "name": "ipython",
    "version": 3
   },
   "file_extension": ".py",
   "mimetype": "text/x-python",
   "name": "python",
   "nbconvert_exporter": "python",
   "pygments_lexer": "ipython3",
   "version": "3.12.4"
  }
 },
 "nbformat": 4,
 "nbformat_minor": 5
}
